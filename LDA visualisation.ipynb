{
 "cells": [
  {
   "cell_type": "code",
   "execution_count": 45,
   "metadata": {},
   "outputs": [],
   "source": [
    "import pyLDAvis\n",
    "import pyLDAvis.sklearn\n",
    "\n",
    "from sklearn.feature_extraction.text import TfidfVectorizer, CountVectorizer\n",
    "from sklearn.decomposition import LatentDirichletAllocation\n",
    "from glob import glob\n",
    "\n",
    "from bagel import DataSet, DataFile\n",
    "\n",
    "import matplotlib.pyplot as plt\n",
    "import numpy\n",
    "import seaborn"
   ]
  },
  {
   "cell_type": "code",
   "execution_count": 46,
   "metadata": {},
   "outputs": [],
   "source": [
    "FILE_PATTERN = 'zero-carbon-bill/input/*.json'\n",
    "TOKEN_PATTERN = r'\\b[a-zA-ZāēīōūĀĒĪŌŪ]{3,}\\b'\n",
    "\n",
    "# Tweak this parameter until it brings joy\n",
    "NUMBER_OF_TOPICS = 5\n",
    "\n",
    "FILE_PATTERN = 'zero-carbon-bill/input/*.json'\n",
    "# FILE_PATTERN = 'test-data/*.txt'\n",
    "\n",
    "data_set = DataSet(FILE_PATTERN)\n"
   ]
  },
  {
   "cell_type": "code",
   "execution_count": 47,
   "metadata": {},
   "outputs": [],
   "source": [
    "pyLDAvis.enable_notebook()"
   ]
  },
  {
   "cell_type": "code",
   "execution_count": 48,
   "metadata": {},
   "outputs": [
    {
     "name": "stdout",
     "output_type": "stream",
     "text": [
      "We have 599 files to read\n"
     ]
    }
   ],
   "source": [
    "# raw_texts: the actual text of the files\n",
    "# filenames: a list of filenames\n",
    "\n",
    "\n",
    "filenames = glob(FILE_PATTERN)\n",
    "\n",
    "print(\"We have {num} files to read\".format(num=len(filenames)))"
   ]
  },
  {
   "cell_type": "code",
   "execution_count": 49,
   "metadata": {},
   "outputs": [],
   "source": [
    "# # Import the wordcloud library\n",
    "# from wordcloud import WordCloud\n",
    "\n",
    "# # Join the different processed titles together.\n",
    "# long_string = ','.join(list(data_set.all_input_data))\n",
    "\n",
    "# # Create a WordCloud object\n",
    "# wordcloud = WordCloud(background_color=\"white\", max_words=5000, contour_width=3, contour_color='steelblue')\n",
    "# # Generate a word cloud\n",
    "# wordcloud.generate(long_string)\n",
    "# # Visualize the word cloud\n",
    "# wordcloud.to_image()"
   ]
  },
  {
   "cell_type": "code",
   "execution_count": 53,
   "metadata": {},
   "outputs": [],
   "source": [
    "# Converts the documents into a matrix of features\n",
    "# features are interesting words\n",
    "# https://scikit-learn.org/stable/modules/generated/sklearn.feature_extraction.text.TfidfVectorizer.html\n",
    "\n",
    "vectorizer = TfidfVectorizer(strip_accents = 'unicode',\n",
    "                                stop_words = 'english',\n",
    "                                lowercase = True,\n",
    "                                token_pattern = TOKEN_PATTERN,\n",
    "                                max_df = 0.5, \n",
    "                                min_df = 2,\n",
    "                                input = 'filename')\n",
    "\n",
    "# vectorizer =  CountVectorizer(strip_accents = 'unicode',\n",
    "#                                 stop_words = 'english',\n",
    "#                                 lowercase = True,\n",
    "#                                 token_pattern = r'\\b[a-zA-Zā]{3,}\\b',\n",
    "#                                 max_df = 0.5, \n",
    "#                                 min_df = 2,\n",
    "#                                 input = 'filename')\n",
    "\n",
    "# this is a DTM - document-term matrix\n",
    "vectorized_data = vectorizer.fit_transform(data_set.filenames)\n"
   ]
  },
  {
   "cell_type": "code",
   "execution_count": 52,
   "metadata": {},
   "outputs": [
    {
     "name": "stdout",
     "output_type": "stream",
     "text": [
      "zero-carbon-bill/input/01290_Lindsay_Brown_Redacted.pdf.txt.json\n"
     ]
    },
    {
     "ename": "ValueError",
     "evalue": "max_df corresponds to < documents than min_df",
     "output_type": "error",
     "traceback": [
      "\u001b[0;31m---------------------------------------------------------------------------\u001b[0m",
      "\u001b[0;31mValueError\u001b[0m                                Traceback (most recent call last)",
      "\u001b[0;32m<ipython-input-52-f6e32838ef33>\u001b[0m in \u001b[0;36m<module>\u001b[0;34m\u001b[0m\n\u001b[1;32m      8\u001b[0m                                 \u001b[0mmin_df\u001b[0m \u001b[0;34m=\u001b[0m \u001b[0;36m2\u001b[0m\u001b[0;34m,\u001b[0m\u001b[0;34m\u001b[0m\u001b[0;34m\u001b[0m\u001b[0m\n\u001b[1;32m      9\u001b[0m                                 input = 'filename')\n\u001b[0;32m---> 10\u001b[0;31m     \u001b[0mfile_vectorized_data\u001b[0m \u001b[0;34m=\u001b[0m \u001b[0mfile_vectorizer\u001b[0m\u001b[0;34m.\u001b[0m\u001b[0mfit_transform\u001b[0m\u001b[0;34m(\u001b[0m\u001b[0;34m[\u001b[0m\u001b[0mfilename\u001b[0m\u001b[0;34m]\u001b[0m\u001b[0;34m)\u001b[0m\u001b[0;34m\u001b[0m\u001b[0;34m\u001b[0m\u001b[0m\n\u001b[0m",
      "\u001b[0;32m~/.pyenv/versions/3.7.4/lib/python3.7/site-packages/sklearn/feature_extraction/text.py\u001b[0m in \u001b[0;36mfit_transform\u001b[0;34m(self, raw_documents, y)\u001b[0m\n\u001b[1;32m   1650\u001b[0m         \"\"\"\n\u001b[1;32m   1651\u001b[0m         \u001b[0mself\u001b[0m\u001b[0;34m.\u001b[0m\u001b[0m_check_params\u001b[0m\u001b[0;34m(\u001b[0m\u001b[0;34m)\u001b[0m\u001b[0;34m\u001b[0m\u001b[0;34m\u001b[0m\u001b[0m\n\u001b[0;32m-> 1652\u001b[0;31m         \u001b[0mX\u001b[0m \u001b[0;34m=\u001b[0m \u001b[0msuper\u001b[0m\u001b[0;34m(\u001b[0m\u001b[0;34m)\u001b[0m\u001b[0;34m.\u001b[0m\u001b[0mfit_transform\u001b[0m\u001b[0;34m(\u001b[0m\u001b[0mraw_documents\u001b[0m\u001b[0;34m)\u001b[0m\u001b[0;34m\u001b[0m\u001b[0;34m\u001b[0m\u001b[0m\n\u001b[0m\u001b[1;32m   1653\u001b[0m         \u001b[0mself\u001b[0m\u001b[0;34m.\u001b[0m\u001b[0m_tfidf\u001b[0m\u001b[0;34m.\u001b[0m\u001b[0mfit\u001b[0m\u001b[0;34m(\u001b[0m\u001b[0mX\u001b[0m\u001b[0;34m)\u001b[0m\u001b[0;34m\u001b[0m\u001b[0;34m\u001b[0m\u001b[0m\n\u001b[1;32m   1654\u001b[0m         \u001b[0;31m# X is already a transformed view of raw_documents so\u001b[0m\u001b[0;34m\u001b[0m\u001b[0;34m\u001b[0m\u001b[0;34m\u001b[0m\u001b[0m\n",
      "\u001b[0;32m~/.pyenv/versions/3.7.4/lib/python3.7/site-packages/sklearn/feature_extraction/text.py\u001b[0m in \u001b[0;36mfit_transform\u001b[0;34m(self, raw_documents, y)\u001b[0m\n\u001b[1;32m   1073\u001b[0m             \u001b[0;32mif\u001b[0m \u001b[0mmax_doc_count\u001b[0m \u001b[0;34m<\u001b[0m \u001b[0mmin_doc_count\u001b[0m\u001b[0;34m:\u001b[0m\u001b[0;34m\u001b[0m\u001b[0;34m\u001b[0m\u001b[0m\n\u001b[1;32m   1074\u001b[0m                 raise ValueError(\n\u001b[0;32m-> 1075\u001b[0;31m                     \"max_df corresponds to < documents than min_df\")\n\u001b[0m\u001b[1;32m   1076\u001b[0m             X, self.stop_words_ = self._limit_features(X, vocabulary,\n\u001b[1;32m   1077\u001b[0m                                                        \u001b[0mmax_doc_count\u001b[0m\u001b[0;34m,\u001b[0m\u001b[0;34m\u001b[0m\u001b[0;34m\u001b[0m\u001b[0m\n",
      "\u001b[0;31mValueError\u001b[0m: max_df corresponds to < documents than min_df"
     ]
    }
   ],
   "source": []
  },
  {
   "cell_type": "code",
   "execution_count": 12,
   "metadata": {
    "scrolled": false
   },
   "outputs": [
    {
     "name": "stdout",
     "output_type": "stream",
     "text": [
      "\n",
      "Topic 1:\n",
      "let carbon website zero important climate change submission ministry environment strongly consent support thank zealand transparency new government global precious effective future assist neutral emissions act economic consulting mandated serve issue human recycling https need published fantastic consequences improve summary risk temperature planet come clean requirements based details submissions reporting\n",
      "537 files\n",
      "\n",
      "Topic 2:\n",
      "carbon emissions just change need climate electric zero government new future tax cars economy needs power world use country make countries focus like net reduce incentives used vehicles way moment zealand people reducing solar planet energy current costs reporting support electricity legislation global animal term time agriculture farmers public renewable\n",
      "528 files\n",
      "\n",
      "Topic 3:\n",
      "climate change new emissions important future government need zealand action time world waste carbon zero issue needs money support let process years commission don work make people thank targets agriculture energy act zealanders really current able little science approach right planet human generations good proposal set economy target country term\n",
      "543 files\n",
      "\n",
      "Topic 4:\n",
      "climate change government new emissions carbon changes thank make zealand needs seriously work global impact read act farming leadership international research need important hope like people world taking opportunity tourism commission collaboration central food small use information dump huge action zero decisions issue country participate effects agriculture sure better reduction\n",
      "529 files\n",
      "\n",
      "Topic 5:\n",
      "need change climate time don address long action government yes information people email support make carbon green want world farming work post public know submission needs environment zero significant jobs issue industry party dont published way needed publicly efforts business like clean difference far agreement attached new trees legislation better\n",
      "548 files\n"
     ]
    }
   ],
   "source": [
    "# Helper function\n",
    "NUMBER_OF_WORDS = 50\n",
    "\n",
    "words = vectorizer.get_feature_names()\n",
    "for topic_idx, topic in enumerate(lda.components_):\n",
    "    print(\"\\nTopic {}:\".format(topic_idx+1))\n",
    "    topic_words = [words[i] for i in topic.argsort()[:-NUMBER_OF_WORDS - 1:-1]]\n",
    "    print(\" \".join(topic_words))\n",
    "    files = list(data_set.files_with_words(topic_words))\n",
    "    print(\"{} files\".format(len(files)))\n"
   ]
  },
  {
   "cell_type": "code",
   "execution_count": 11,
   "metadata": {},
   "outputs": [
    {
     "data": {
      "text/plain": [
       "LatentDirichletAllocation(batch_size=128, doc_topic_prior=None,\n",
       "                          evaluate_every=-1, learning_decay=0.7,\n",
       "                          learning_method='batch', learning_offset=10.0,\n",
       "                          max_doc_update_iter=100, max_iter=10,\n",
       "                          mean_change_tol=0.001, n_components=5, n_jobs=None,\n",
       "                          perp_tol=0.1, random_state=None,\n",
       "                          topic_word_prior=None, total_samples=1000000.0,\n",
       "                          verbose=0)"
      ]
     },
     "execution_count": 11,
     "metadata": {},
     "output_type": "execute_result"
    }
   ],
   "source": [
    "lda = LatentDirichletAllocation(n_components=NUMBER_OF_TOPICS)\n",
    "lda.fit(vectorized_data)"
   ]
  },
  {
   "cell_type": "code",
   "execution_count": 13,
   "metadata": {},
   "outputs": [
    {
     "data": {
      "image/png": "[encoded data removed]",
      "text/plain": [
       "<Figure size 1080x667.491 with 1 Axes>"
      ]
     },
     "metadata": {
      "needs_background": "light"
     },
     "output_type": "display_data"
    }
   ],
   "source": [
    "def plot_10_most_common_words(count_data, count_vectorizer):\n",
    "    words = count_vectorizer.get_feature_names()\n",
    "    total_counts = numpy.zeros(len(words))\n",
    "    for t in count_data:\n",
    "        total_counts += t.toarray()[0]\n",
    "    \n",
    "    count_dict = (zip(words, total_counts))\n",
    "    count_dict = sorted(count_dict, key=lambda x:x[1], reverse=True)[0:10]\n",
    "    words = [w[0] for w in count_dict]\n",
    "    counts = [w[1] for w in count_dict]\n",
    "    x_pos = numpy.arange(len(words)) \n",
    "    \n",
    "    plt.figure(2, figsize=(15, 15/1.6180))\n",
    "    plt.subplot(title='10 most common words')\n",
    "    seaborn.set_context(\"notebook\", font_scale=1.25, rc={\"lines.linewidth\": 2.5})\n",
    "    seaborn.barplot(x_pos, counts, palette='husl')\n",
    "    plt.xticks(x_pos, words, rotation=90) \n",
    "    plt.xlabel('words')\n",
    "    plt.ylabel('counts')\n",
    "    plt.show()\n",
    "\n",
    "# Visualise the 10 most common words\n",
    "plot_10_most_common_words(vectorized_data, vectorizer)\n"
   ]
  },
  {
   "cell_type": "code",
   "execution_count": 28,
   "metadata": {
    "scrolled": true
   },
   "outputs": [
    {
     "name": "stderr",
     "output_type": "stream",
     "text": [
      "/home/brenda/.pyenv/versions/3.7.4/lib/python3.7/site-packages/pyLDAvis/_prepare.py:257: FutureWarning: Sorting because non-concatenation axis is not aligned. A future version\n",
      "of pandas will change to not sort by default.\n",
      "\n",
      "To accept the future behavior, pass 'sort=False'.\n",
      "\n",
      "To retain the current behavior and silence the warning, pass 'sort=True'.\n",
      "\n",
      "  return pd.concat([default_term_info] + list(topic_dfs))\n"
     ]
    },
    {
     "data": {
      "text/html": [
       "\n",
       "<link rel=\"stylesheet\" type=\"text/css\" href=\"https://cdn.rawgit.com/bmabey/pyLDAvis/files/ldavis.v1.0.0.css\">\n",
       "\n",
       "\n",
       "<div id=\"ldavis_el29371399345354787365012825454\"></div>\n",
       "<script type=\"text/javascript\">\n",
       "\n",
       "var ldavis_el29371399345354787365012825454_data = {\"mdsDat\": {\"x\": [0.054490007710355115, -0.0035842145430913653, -0.013288205713964153, -0.021121184292771714, -0.01649640316052784], \"y\": [0.004766303274306998, -0.033140170982071664, 0.03586391807053436, 0.00551142933673865, -0.013001479699508324], \"topics\": [1, 2, 3, 4, 5], \"cluster\": [1, 1, 1, 1, 1], \"Freq\": [39.14213886266607, 16.58963841134985, 15.863245997467084, 15.076498902596736, 13.328477825920256]}, \"tinfo\": {\"Category\": [\"Default\", \"Default\", \"Default\", \"Default\", \"Default\", \"Default\", \"Default\", \"Default\", \"Default\", \"Default\", \"Default\", \"Default\", \"Default\", \"Default\", \"Default\", \"Default\", \"Default\", \"Default\", \"Default\", \"Default\", \"Default\", \"Default\", \"Default\", \"Default\", \"Default\", \"Default\", \"Default\", \"Default\", \"Default\", \"Default\", \"Topic1\", \"Topic1\", \"Topic1\", \"Topic1\", \"Topic1\", \"Topic1\", \"Topic1\", \"Topic1\", \"Topic1\", \"Topic1\", \"Topic1\", \"Topic1\", \"Topic1\", \"Topic1\", \"Topic1\", \"Topic1\", \"Topic1\", \"Topic1\", \"Topic1\", \"Topic1\", \"Topic1\", \"Topic1\", \"Topic1\", \"Topic1\", \"Topic1\", \"Topic1\", \"Topic1\", \"Topic1\", \"Topic1\", \"Topic1\", \"Topic1\", \"Topic1\", \"Topic1\", \"Topic1\", \"Topic1\", \"Topic1\", \"Topic1\", \"Topic1\", \"Topic1\", \"Topic1\", \"Topic1\", \"Topic1\", \"Topic1\", \"Topic1\", \"Topic1\", \"Topic1\", \"Topic1\", \"Topic1\", \"Topic1\", \"Topic1\", \"Topic1\", \"Topic1\", \"Topic1\", \"Topic1\", \"Topic1\", \"Topic1\", \"Topic1\", \"Topic1\", \"Topic1\", \"Topic1\", \"Topic2\", \"Topic2\", \"Topic2\", \"Topic2\", \"Topic2\", \"Topic2\", \"Topic2\", \"Topic2\", \"Topic2\", \"Topic2\", \"Topic2\", \"Topic2\", \"Topic2\", \"Topic2\", \"Topic2\", \"Topic2\", \"Topic2\", \"Topic2\", \"Topic2\", \"Topic2\", \"Topic2\", \"Topic2\", \"Topic2\", \"Topic2\", \"Topic2\", \"Topic2\", \"Topic2\", \"Topic2\", \"Topic2\", \"Topic2\", \"Topic2\", \"Topic2\", \"Topic2\", \"Topic2\", \"Topic2\", \"Topic2\", \"Topic2\", \"Topic2\", \"Topic2\", \"Topic2\", \"Topic2\", \"Topic2\", \"Topic2\", \"Topic2\", \"Topic2\", \"Topic2\", \"Topic2\", \"Topic2\", \"Topic2\", \"Topic2\", \"Topic2\", \"Topic2\", \"Topic2\", \"Topic2\", \"Topic2\", \"Topic2\", \"Topic2\", \"Topic2\", \"Topic2\", \"Topic2\", \"Topic2\", \"Topic2\", \"Topic2\", \"Topic2\", \"Topic2\", \"Topic2\", \"Topic3\", \"Topic3\", \"Topic3\", \"Topic3\", \"Topic3\", \"Topic3\", \"Topic3\", \"Topic3\", \"Topic3\", \"Topic3\", \"Topic3\", \"Topic3\", \"Topic3\", \"Topic3\", \"Topic3\", \"Topic3\", \"Topic3\", \"Topic3\", \"Topic3\", \"Topic3\", \"Topic3\", \"Topic3\", \"Topic3\", \"Topic3\", \"Topic3\", \"Topic3\", \"Topic3\", \"Topic3\", \"Topic3\", \"Topic3\", \"Topic3\", \"Topic3\", \"Topic3\", \"Topic3\", \"Topic3\", \"Topic3\", \"Topic3\", \"Topic3\", \"Topic3\", \"Topic3\", \"Topic3\", \"Topic3\", \"Topic3\", \"Topic3\", \"Topic3\", \"Topic3\", \"Topic3\", \"Topic3\", \"Topic3\", \"Topic3\", \"Topic3\", \"Topic3\", \"Topic3\", \"Topic3\", \"Topic3\", \"Topic3\", \"Topic3\", \"Topic3\", \"Topic3\", \"Topic3\", \"Topic3\", \"Topic3\", \"Topic3\", \"Topic4\", \"Topic4\", \"Topic4\", \"Topic4\", \"Topic4\", \"Topic4\", \"Topic4\", \"Topic4\", \"Topic4\", \"Topic4\", \"Topic4\", \"Topic4\", \"Topic4\", \"Topic4\", \"Topic4\", \"Topic4\", \"Topic4\", \"Topic4\", \"Topic4\", \"Topic4\", \"Topic4\", \"Topic4\", \"Topic4\", \"Topic4\", \"Topic4\", \"Topic4\", \"Topic4\", \"Topic4\", \"Topic4\", \"Topic4\", \"Topic4\", \"Topic4\", \"Topic4\", \"Topic4\", \"Topic4\", \"Topic4\", \"Topic4\", \"Topic4\", \"Topic4\", \"Topic4\", \"Topic4\", \"Topic4\", \"Topic4\", \"Topic4\", \"Topic4\", \"Topic4\", \"Topic4\", \"Topic4\", \"Topic4\", \"Topic4\", \"Topic4\", \"Topic4\", \"Topic4\", \"Topic4\", \"Topic4\", \"Topic4\", \"Topic4\", \"Topic4\", \"Topic4\", \"Topic4\", \"Topic4\", \"Topic4\", \"Topic5\", \"Topic5\", \"Topic5\", \"Topic5\", \"Topic5\", \"Topic5\", \"Topic5\", \"Topic5\", \"Topic5\", \"Topic5\", \"Topic5\", \"Topic5\", \"Topic5\", \"Topic5\", \"Topic5\", \"Topic5\", \"Topic5\", \"Topic5\", \"Topic5\", \"Topic5\", \"Topic5\", \"Topic5\", \"Topic5\", \"Topic5\", \"Topic5\", \"Topic5\", \"Topic5\", \"Topic5\", \"Topic5\", \"Topic5\", \"Topic5\", \"Topic5\", \"Topic5\", \"Topic5\", \"Topic5\", \"Topic5\", \"Topic5\", \"Topic5\", \"Topic5\", \"Topic5\", \"Topic5\", \"Topic5\", \"Topic5\", \"Topic5\", \"Topic5\", \"Topic5\", \"Topic5\", \"Topic5\", \"Topic5\", \"Topic5\", \"Topic5\", \"Topic5\", \"Topic5\", \"Topic5\", \"Topic5\", \"Topic5\", \"Topic5\", \"Topic5\", \"Topic5\", \"Topic5\", \"Topic5\", \"Topic5\", \"Topic5\", \"Topic5\"], \"Freq\": [12.0, 2.0, 8.0, 2.0, 3.0, 2.0, 5.0, 4.0, 12.0, 1.0, 2.0, 2.0, 1.0, 1.0, 2.0, 2.0, 2.0, 2.0, 2.0, 3.0, 3.0, 3.0, 2.0, 1.0, 1.0, 2.0, 2.0, 1.0, 5.0, 3.0, 1.8853924533609494, 1.4450176822002485, 1.7137133235727768, 1.309012327729619, 1.7023114807588213, 1.245813941311845, 2.0721608592642182, 1.493516395497832, 2.095947387143122, 2.3975280371874756, 1.3529012748258826, 1.2434253712233847, 1.9034093966661847, 1.6047424095370957, 0.9824743275013241, 0.970056551374496, 0.9719749630388352, 2.670960718629405, 1.4039046273018765, 0.9149899326806664, 1.2115678444713214, 1.4434640741858127, 2.2650404332151517, 0.8646319624905343, 1.1515486087244193, 0.9003724619126112, 1.4588444595157635, 1.853744863509799, 2.278222570025404, 0.9032521037004954, 3.431933493109503, 7.01334904546866, 4.9475437349464935, 2.044283841220238, 2.0889152782263034, 1.999902510140397, 2.3603588569270437, 2.411445367424671, 5.080727616288561, 5.982060650688513, 2.0080190621155753, 3.4958065856453335, 3.6377184802158244, 2.4986775685466887, 2.6079911469435038, 4.482622016882286, 3.354150180115544, 2.768730579881197, 3.1740399775888215, 3.254750452040597, 3.988207926638075, 4.775222094988828, 2.555705417854815, 4.442582456973137, 2.4462776168804146, 2.4573607627015592, 2.558658884622492, 2.509791660912982, 2.4541302888751373, 2.398736288929122, 0.696143202668064, 0.6358439114878077, 1.0752801519280677, 0.48812775424226884, 0.6366774156940426, 1.2370248132539559, 0.5816330833730851, 1.3974876244481345, 0.4355809931695087, 0.626663584662043, 0.43318163381299957, 0.42091069236078277, 0.41056085744234744, 0.4064358938481744, 0.3952985662670901, 0.4294003675695848, 0.3801658036287568, 0.4186153550329341, 0.4119883426800214, 0.4899968795545276, 0.35264522675775456, 0.4783530374301533, 0.35817085179274327, 0.33550280777773506, 0.45739059829034057, 0.32984104016002863, 0.32810796661347075, 0.32810796661347075, 0.5055373940269207, 0.32209964968131266, 0.4742812263917968, 0.874858424495349, 0.4887405409163222, 0.9159105627681625, 1.2551251096149492, 0.8330536533626013, 0.7865495590185305, 3.2500375896027154, 2.652920127116821, 0.7052384343959168, 1.1493725354670543, 0.8004025218633574, 0.8272543516486416, 1.063288968861614, 1.620581919255353, 0.6963480011624354, 0.918591475179101, 1.257282962507844, 0.8831720822754053, 0.6046257052509479, 0.6173393024370839, 0.7691274011387865, 0.6600404348739747, 0.9874175390005854, 0.91332311393051, 1.019116216073587, 1.1491352785662485, 1.0928432685438785, 1.1542740098723459, 0.8957176635194133, 0.8504313965166096, 0.8282655987690263, 0.859625917649974, 0.927629345169369, 0.7844759135104185, 0.8151905112849628, 0.6016933922048192, 0.8750888404142304, 0.6034346673147365, 0.5516278128836518, 0.44999523571262334, 0.5348095413043649, 0.4006392486032662, 0.49607238940578235, 0.4822626744396434, 0.5197861526847547, 0.6256710556634677, 0.4963037619256149, 0.47949955291031965, 0.35874766399383373, 0.361002700156803, 0.5650749614987829, 0.352641073251771, 0.3465241829044855, 0.8320606963674304, 0.7179016998069253, 0.34081553672785403, 0.5385568007183192, 0.4453826196957878, 0.3337935041083559, 0.47511633977308165, 0.3963951246761168, 0.4006881207950935, 0.3212766487188686, 0.42779263950365537, 0.47155222545017655, 0.3786694119008203, 0.6411873095423982, 1.1394090510959847, 0.8112034037713978, 0.7822961453466345, 0.6671485988705705, 0.5020955512476484, 0.533483537254347, 0.961723788882926, 1.121390536533191, 2.344715216986056, 1.0070318509701874, 0.6124541394902425, 0.7090847721773432, 1.9083260170239744, 0.7912758218076397, 1.1364890776985324, 0.9811200117541716, 0.7894478639528858, 0.991266833342878, 0.7577735250789577, 0.8141401998113035, 1.2508645863216263, 1.1558690714553788, 1.1192719070051986, 0.782497310060271, 0.8921399505237025, 0.9640907130461746, 0.7645608899045987, 0.7143878447757724, 0.7380521347329135, 0.7100396622724104, 0.7034707446590804, 0.7103290200612533, 1.2381017379886714, 0.9469547674372336, 0.7195166996255418, 0.6124058105643538, 0.6924529997324873, 0.46360062711655725, 0.4227839049153129, 0.6112237299549246, 0.40565902258330105, 0.5618719914884304, 0.5668766460417644, 0.7223226939068663, 0.38246741053740707, 0.6767668712199253, 0.37812158404200924, 0.37022456984241836, 0.5958509543035532, 0.3625501668099175, 0.47337047178051106, 0.3924456361039709, 0.4776582611787691, 0.34794820027745504, 0.346401131563258, 0.33852819553650293, 0.5251508957094424, 0.41797627832489354, 0.3340624936427442, 0.3272210697689907, 0.38928907821331543, 0.44037601849166563, 0.6892516408455498, 0.6355498823168169, 0.608972407927231, 1.1248529019426392, 0.5385716145227468, 1.7457785777245274, 1.2420657433036337, 0.9656425023813033, 0.916285510441793, 1.4201314695601759, 1.4133832025138968, 0.713954723335933, 1.0147006027301428, 0.6636351365425069, 0.96754815705539, 1.6170180919935722, 0.8929477288936338, 0.6046367062411235, 0.8507189665670846, 0.8790402021840418, 1.142727089113144, 1.1371052889665132, 1.0206194696303161, 0.9321092796373639, 0.8872317383147438, 0.7981377449810946, 0.8531789265421448, 0.69138829542257, 0.7117312025047989, 0.7018664319702459, 0.6919516617092565, 0.6271592178055254, 0.5237765149935834, 0.528577334536816, 0.43245011389569876, 0.4595705696600674, 0.4529043382916616, 0.35268703441171173, 0.5146632999415683, 0.33503605346304727, 0.37639882661348917, 0.3249490930957176, 0.32284675116787576, 0.34291650307065646, 0.3041080828528977, 0.36406556743125124, 0.32311878459656096, 0.29107182433360873, 0.3230197455403915, 0.631347160583054, 0.3406965539291907, 0.4871155296624299, 0.5052807220646266, 0.2691554469379777, 0.3447386910232484, 0.36743917830250955, 0.2921815075092631, 0.25918599737480247, 0.25882777794543804, 0.5256712341342616, 0.8110257823740915, 0.7861614065210059, 0.4770711537949135, 0.5745856751623971, 0.3583630342630813, 0.3811142916758239, 0.6230045424265789, 0.4875221705612663, 1.8464524958787145, 0.653587730840988, 0.5486594883016388, 0.5516409981325087, 0.43094014063963315, 0.5862711590993115, 1.0368877785138537, 1.2613357658265467, 1.4573580700650033, 0.9294827885936198, 0.44045079922525665, 0.7495991850426503, 0.8526463187771934, 1.0838645800564715, 0.7333811830556272, 1.012497830578814, 0.6517112542293847, 0.557049457678981, 0.5675978861296453, 0.6823913435462987, 0.5526245423156545, 0.6787965776576572, 0.6066522435410302, 0.6052684624119538, 0.5595747928318017, 0.5516396853817543, 0.5528847298691835], \"Term\": [\"climate\", \"moment\", \"government\", \"waste\", \"public\", \"address\", \"just\", \"action\", \"change\", \"consent\", \"money\", \"key\", \"seriously\", \"overdue\", \"far\", \"taking\", \"trees\", \"better\", \"approach\", \"commission\", \"thank\", \"information\", \"website\", \"track\", \"election\", \"published\", \"huge\", \"dont\", \"make\", \"issue\", \"costs\", \"requirements\", \"gases\", \"dioxide\", \"electricity\", \"moral\", \"risk\", \"credits\", \"effective\", \"set\", \"example\", \"agreement\", \"sustainable\", \"farmers\", \"feedback\", \"focused\", \"regional\", \"net\", \"reductions\", \"mandated\", \"adapt\", \"short\", \"green\", \"stakeholders\", \"consumption\", \"wider\", \"best\", \"clean\", \"industry\", \"efficient\", \"let\", \"emissions\", \"zero\", \"gas\", \"focus\", \"target\", \"energy\", \"agriculture\", \"new\", \"carbon\", \"countries\", \"support\", \"zealand\", \"changes\", \"environment\", \"need\", \"future\", \"global\", \"world\", \"important\", \"government\", \"climate\", \"act\", \"change\", \"like\", \"country\", \"time\", \"make\", \"people\", \"needs\", \"dump\", \"crucial\", \"seriously\", \"withheld\", \"adapting\", \"money\", \"ignore\", \"waste\", \"commerce\", \"particular\", \"ruining\", \"mankind\", \"cases\", \"inhabitants\", \"underground\", \"legislative\", \"boldly\", \"near\", \"committed\", \"relief\", \"expenditure\", \"non\", \"attempted\", \"knowing\", \"pasture\", \"paramount\", \"behave\", \"responsibly\", \"scam\", \"mihi\", \"privacy\", \"huge\", \"started\", \"taking\", \"commission\", \"used\", \"governments\", \"climate\", \"change\", \"research\", \"issue\", \"does\", \"opportunity\", \"don\", \"government\", \"given\", \"farming\", \"future\", \"want\", \"https\", \"industries\", \"warming\", \"real\", \"needs\", \"action\", \"important\", \"need\", \"new\", \"carbon\", \"support\", \"global\", \"country\", \"time\", \"emissions\", \"tax\", \"zealand\", \"scrap\", \"overdue\", \"beautiful\", \"rail\", \"promising\", \"noted\", \"modelling\", \"open\", \"telling\", \"travel\", \"acting\", \"subsidy\", \"referendum\", \"emmissions\", \"demonstrated\", \"mandatory\", \"cheapest\", \"deeply\", \"data\", \"understand\", \"kiwis\", \"standard\", \"completely\", \"week\", \"settled\", \"allows\", \"accurate\", \"narrow\", \"passing\", \"managed\", \"sounds\", \"happy\", \"far\", \"living\", \"natural\", \"little\", \"meat\", \"potential\", \"information\", \"long\", \"climate\", \"reduce\", \"decisions\", \"food\", \"change\", \"science\", \"time\", \"act\", \"transport\", \"work\", \"reporting\", \"tax\", \"carbon\", \"new\", \"need\", \"economic\", \"zealand\", \"emissions\", \"people\", \"public\", \"let\", \"submission\", \"energy\", \"track\", \"moment\", \"consent\", \"dont\", \"collaboration\", \"submissions\", \"equivalence\", \"permission\", \"environmentally\", \"amazing\", \"earlier\", \"principle\", \"publish\", \"publication\", \"ets\", \"voice\", \"ideas\", \"setting\", \"specific\", \"phone\", \"supplied\", \"nature\", \"guys\", \"offered\", \"violates\", \"urgency\", \"garbage\", \"excessively\", \"straight\", \"worry\", \"subsidies\", \"wish\", \"putting\", \"species\", \"address\", \"late\", \"just\", \"public\", \"website\", \"better\", \"action\", \"make\", \"published\", \"submission\", \"ministry\", \"thank\", \"change\", \"years\", \"read\", \"economy\", \"work\", \"carbon\", \"climate\", \"need\", \"emissions\", \"new\", \"needs\", \"government\", \"power\", \"important\", \"world\", \"zealand\", \"election\", \"mandate\", \"kids\", \"bolder\", \"biochar\", \"detailed\", \"campaign\", \"rise\", \"desirable\", \"courage\", \"swayed\", \"enact\", \"south\", \"insufficient\", \"section\", \"ordinary\", \"core\", \"engage\", \"proposal\", \"regulatory\", \"parliament\", \"citizens\", \"cease\", \"diesel\", \"corporate\", \"maximum\", \"tropical\", \"footing\", \"old\", \"trees\", \"key\", \"prepared\", \"central\", \"monitoring\", \"kiwi\", \"know\", \"leading\", \"government\", \"approach\", \"planting\", \"comments\", \"precious\", \"local\", \"world\", \"need\", \"change\", \"needs\", \"fantastic\", \"thank\", \"people\", \"carbon\", \"don\", \"climate\", \"public\", \"effects\", \"cars\", \"important\", \"problem\", \"zero\", \"future\", \"emissions\", \"farming\", \"act\", \"make\"], \"Total\": [12.0, 2.0, 8.0, 2.0, 3.0, 2.0, 5.0, 4.0, 12.0, 1.0, 2.0, 2.0, 1.0, 1.0, 2.0, 2.0, 2.0, 2.0, 2.0, 3.0, 3.0, 3.0, 2.0, 1.0, 1.0, 2.0, 2.0, 1.0, 5.0, 3.0, 2.256035773584931, 1.80010272540645, 2.1511223446478245, 1.6636339881184774, 2.1819698001004686, 1.60329025928849, 2.690212197675962, 1.9435646937862496, 2.7616193637615534, 3.172339896203084, 1.7985589079421664, 1.6649915034379623, 2.5588322807206536, 2.1590665745475044, 1.3398692624154835, 1.3239597807800692, 1.3306950577538221, 3.692898633491568, 1.9459052990597647, 1.2687450207772164, 1.6845427042838677, 2.0153000834072112, 3.186666912052671, 1.218103590090292, 1.6229322571096476, 1.273647441251202, 2.0723873069109953, 2.6570420131258485, 3.276087446913652, 1.2998284465015362, 4.949961452266195, 10.442446845733521, 7.5535180194866705, 2.9977646578293418, 3.07181810165421, 2.9587747324122358, 3.5779023954881484, 3.6790291746763546, 8.647329183026596, 10.6137909160521, 2.9961633891798103, 5.850409855406099, 6.39532897556439, 3.9926365662841072, 4.246333018862795, 9.032984437910596, 6.24268288482562, 4.795685318264839, 5.913976136644061, 6.243685080302969, 8.781655973959772, 12.519578021122927, 4.498858376095358, 12.078204763172508, 4.460727478162355, 4.560777166708375, 5.616949512454639, 5.513533536314308, 5.236010981923657, 5.625768253011428, 1.0995504081074752, 1.104637307433253, 1.9084559014793367, 0.8894831460335811, 1.1634603107115746, 2.327260530834727, 1.107261822844189, 2.6810870664523363, 0.8369348991424186, 1.2046962721356345, 0.8345345132059178, 0.8237233317514985, 0.8127748504691588, 0.8077769755431246, 0.7966544315739159, 0.8686708731293933, 0.7815127739580515, 0.8637919531388867, 0.8610152841652258, 1.0414857010683511, 0.7543847134572211, 1.0241530880711394, 0.7760960275590094, 0.7368493941224635, 1.0132727240464066, 0.7311887627500562, 0.7294517896540819, 0.7294517896540819, 1.1254972204837843, 0.7242769101050412, 1.0710164911128042, 2.053717395042359, 1.1179702630677435, 2.2793608103505067, 3.5793748630167546, 2.196979529464806, 2.0582978268269643, 12.519578021122927, 12.078204763172508, 1.9155286762112151, 3.9458046992841576, 2.324175057573573, 2.6820481451444063, 4.2244509487458135, 8.781655973959772, 2.0657022230885707, 3.3934740010785336, 6.24268288482562, 3.2993101194492085, 1.6400122072274927, 1.766051239597004, 2.917470076618199, 2.0738050701741986, 5.625768253011428, 4.6902183920914595, 6.243685080302969, 9.032984437910596, 8.647329183026596, 10.6137909160521, 5.850409855406099, 4.795685318264839, 4.560777166708375, 5.616949512454639, 10.442446845733521, 3.4003507600978917, 6.39532897556439, 1.0081938923670613, 1.4947237219291196, 1.0614312320847696, 1.001472167883643, 0.8522478655402977, 1.0687292946049067, 0.8023850742491899, 1.0068217608990377, 0.9942975259578765, 1.0747627337512653, 1.3020203478245786, 1.0511713437322538, 1.0162067304861924, 0.7611587915750873, 0.7671308463193043, 1.2024799594524396, 0.7554278501055793, 0.7493512543722872, 1.811605069666466, 1.5650189032368675, 0.7462495086161904, 1.181859207628785, 0.9810120728929828, 0.7364002921386112, 1.0499324936819419, 0.8830186498866399, 0.895099999095895, 0.7230205411065015, 0.9628478940820054, 1.0613862014496955, 0.8580839539040159, 1.5058311697984186, 2.893760613017248, 2.0383166239384667, 2.072727477051244, 1.7220793343833076, 1.1982130731956768, 1.3231243944253994, 3.102502907387957, 3.94788674891374, 12.519578021122927, 3.5447786617090773, 1.6602110425935597, 2.1401366949880387, 12.078204763172508, 2.7580955884347533, 5.616949512454639, 4.498858376095358, 2.883652799474941, 4.747243663426903, 2.789547129704061, 3.4003507600978917, 10.6137909160521, 8.647329183026596, 9.032984437910596, 3.358878958351229, 6.39532897556439, 10.442446845733521, 5.236010981923657, 3.4459988972127924, 4.949961452266195, 3.6148699336611054, 3.5779023954881484, 1.1235250315276104, 2.011264037218651, 1.5558384801210756, 1.2171949158179551, 1.1081855653767385, 1.2890556565993911, 0.8678999338022814, 0.827095968482767, 1.210484726522823, 0.8109925910457407, 1.1248239901732504, 1.141160713554705, 1.4566692371996002, 0.7867759623869606, 1.3947149308236715, 0.7824280581314149, 0.7748997320883859, 1.2594457798171017, 0.7668574056544327, 1.0014764228045927, 0.8360106445094564, 1.028067167113494, 0.7522570927722684, 0.7507060607069137, 0.7428298330085583, 1.1538251207895371, 0.9230662956587269, 0.7403545711922466, 0.731799641851844, 0.8756269385557589, 0.991365447357323, 1.5656645414230033, 1.4615263297494692, 1.4014383746256338, 2.844126232541153, 1.2516357700721605, 5.126943440725643, 3.4459988972127924, 2.5889125602162073, 2.468016395100711, 4.6902183920914595, 5.513533536314308, 2.0397175659102373, 3.6148699336611054, 1.8765227599084722, 3.8672547992155852, 12.078204763172508, 3.815085151425495, 1.6479657898596816, 4.030375728482559, 4.747243663426903, 10.6137909160521, 12.519578021122927, 9.032984437910596, 10.442446845733521, 8.647329183026596, 5.625768253011428, 8.781655973959772, 2.8876714183184355, 6.243685080302969, 5.913976136644061, 6.39532897556439, 1.1301296393032372, 0.983752142218041, 1.0316230910683504, 0.8527657665316314, 0.9222506834916757, 0.9513062019781644, 0.762705105864032, 1.1258740085256997, 0.745053446733791, 0.8465907509058412, 0.7349685661676932, 0.7333917229658833, 0.8060470204885462, 0.7183370474401538, 0.8626663975848157, 0.770288577078076, 0.7017714121640997, 0.7893779873074929, 1.5491411042624827, 0.841499013416773, 1.2244130426450346, 1.2750774205798732, 0.6810085325650406, 0.880965592073298, 0.9426402804165479, 0.7520951960441732, 0.6691986723388039, 0.6697127841803356, 1.3667739219305473, 2.133259136193288, 2.0997388455548487, 1.277954529371976, 1.5797909084542585, 0.9453371463822284, 1.0168736430578749, 1.903036569303552, 1.4111861922010749, 8.781655973959772, 2.11733531341338, 1.7207877479015772, 1.830621942371423, 1.2377705522813187, 2.1098467381781982, 5.913976136644061, 9.032984437910596, 12.078204763172508, 5.625768253011428, 1.2920895502171172, 3.8672547992155852, 5.236010981923657, 10.6137909160521, 4.2244509487458135, 12.519578021122927, 3.4459988972127924, 2.3012255086683924, 2.5539680999648535, 6.243685080302969, 2.4040787920978013, 7.5535180194866705, 6.24268288482562, 10.442446845733521, 3.3934740010785336, 4.498858376095358, 5.513533536314308], \"loglift\": [30.0, 29.0, 28.0, 27.0, 26.0, 25.0, 24.0, 23.0, 22.0, 21.0, 20.0, 19.0, 18.0, 17.0, 16.0, 15.0, 14.0, 13.0, 12.0, 11.0, 10.0, 9.0, 8.0, 7.0, 6.0, 5.0, 4.0, 3.0, 2.0, 1.0, 0.7585, 0.7182, 0.7106, 0.6982, 0.6897, 0.6857, 0.6769, 0.6746, 0.6622, 0.6579, 0.6532, 0.646, 0.6421, 0.6413, 0.6277, 0.6269, 0.6238, 0.614, 0.6115, 0.6111, 0.6084, 0.6042, 0.5966, 0.5952, 0.5948, 0.5911, 0.5869, 0.578, 0.5747, 0.574, 0.5717, 0.5399, 0.5148, 0.5552, 0.5523, 0.5463, 0.522, 0.5155, 0.4062, 0.3646, 0.5378, 0.423, 0.3738, 0.4693, 0.4505, 0.2373, 0.3168, 0.3886, 0.3157, 0.2865, 0.1486, -0.0259, 0.3725, -0.0622, 0.3372, 0.3196, 0.1517, 0.151, 0.1802, 0.0856, 1.3393, 1.2441, 1.2227, 1.1963, 1.1935, 1.1644, 1.1526, 1.1448, 1.1433, 1.1428, 1.1407, 1.125, 1.1135, 1.1095, 1.0956, 1.0918, 1.0758, 1.072, 1.0593, 1.0424, 1.036, 1.0351, 1.0231, 1.0096, 1.001, 1.0003, 0.9974, 0.9974, 0.996, 0.9861, 0.9818, 0.943, 0.969, 0.8847, 0.7484, 0.8267, 0.8344, 0.4478, 0.2807, 0.7972, 0.563, 0.7304, 0.6202, 0.4169, 0.1065, 0.709, 0.4896, 0.1939, 0.4784, 0.7985, 0.7453, 0.4632, 0.6516, 0.0564, 0.1602, -0.0162, -0.2655, -0.2721, -0.4223, -0.0802, 0.0667, 0.0905, -0.0807, -0.6246, 0.3298, -0.2635, 1.325, 1.3058, 1.2764, 1.2448, 1.2025, 1.1489, 1.1466, 1.1333, 1.1176, 1.1147, 1.1083, 1.0907, 1.0901, 1.0889, 1.0874, 1.086, 1.0793, 1.0699, 1.0631, 1.0618, 1.0574, 1.0552, 1.0515, 1.0499, 1.0482, 1.0402, 1.0374, 1.03, 1.0299, 1.0299, 1.0231, 0.9874, 0.9091, 0.9198, 0.8668, 0.8929, 0.9714, 0.9328, 0.6699, 0.5826, 0.166, 0.5827, 0.8439, 0.7365, -0.004, 0.5925, 0.2433, 0.3183, 0.5457, 0.2748, 0.5379, 0.4117, -0.2972, -0.1712, -0.247, 0.3843, -0.1285, -0.5413, -0.0828, 0.2676, -0.062, 0.2137, 0.2147, 1.4335, 1.4068, 1.3955, 1.3663, 1.2989, 1.2706, 1.265, 1.221, 1.2087, 1.1993, 1.1979, 1.1924, 1.1906, 1.1707, 1.1689, 1.1648, 1.1534, 1.1436, 1.1429, 1.1427, 1.1358, 1.1255, 1.121, 1.1186, 1.1062, 1.1049, 1.0998, 1.0962, 1.0872, 1.0814, 1.0806, 1.0716, 1.0593, 1.0586, 0.9644, 1.0487, 0.8147, 0.8716, 0.9058, 0.9012, 0.6973, 0.5308, 0.8423, 0.6216, 0.8526, 0.5065, -0.1188, 0.4398, 0.8894, 0.3365, 0.2055, -0.3367, -0.5068, -0.2884, -0.5242, -0.3849, -0.0608, -0.4394, 0.4625, -0.2796, -0.2393, -0.3318, 1.4264, 1.385, 1.3466, 1.3362, 1.3187, 1.2731, 1.244, 1.2325, 1.216, 1.2047, 1.1991, 1.1948, 1.1606, 1.1557, 1.1526, 1.1465, 1.1352, 1.1217, 1.1177, 1.1111, 1.0936, 1.0896, 1.087, 1.077, 1.0731, 1.0698, 1.0667, 1.0646, 1.0597, 1.0482, 1.0329, 1.0299, 1.0039, 1.0453, 1.0339, 0.8986, 0.9524, 0.4559, 0.8398, 0.8722, 0.8158, 0.9602, 0.7347, 0.2742, 0.0466, -0.0995, 0.2148, 0.9391, 0.3745, 0.2003, -0.2664, 0.2643, -0.4996, 0.3499, 0.5967, 0.5113, -0.1985, 0.545, -0.3942, -0.3159, -0.8327, 0.2128, -0.0834, -0.2845], \"logprob\": [30.0, 29.0, 28.0, 27.0, 26.0, 25.0, 24.0, 23.0, 22.0, 21.0, 20.0, 19.0, 18.0, 17.0, 16.0, 15.0, 14.0, 13.0, 12.0, 11.0, 10.0, 9.0, 8.0, 7.0, 6.0, 5.0, 4.0, 3.0, 2.0, 1.0, -6.3036, -6.5696, -6.3991, -6.6684, -6.4057, -6.7179, -6.2091, -6.5366, -6.1977, -6.0633, -6.6355, -6.7198, -6.2941, -6.4648, -6.9554, -6.9681, -6.9661, -5.9553, -6.5985, -7.0266, -6.7458, -6.5707, -6.1201, -7.0832, -6.7966, -7.0427, -6.5601, -6.3205, -6.1143, -7.0395, -5.7046, -4.9899, -5.3388, -6.2227, -6.2011, -6.2446, -6.0789, -6.0575, -5.3123, -5.149, -6.2406, -5.6862, -5.6464, -6.022, -5.9791, -5.4375, -5.7275, -5.9193, -5.7827, -5.7576, -5.5544, -5.3743, -5.9994, -5.4465, -6.0432, -6.0386, -5.9982, -6.0175, -6.0399, -6.0628, -6.4415, -6.5321, -6.0067, -6.7965, -6.5308, -5.8666, -6.6212, -5.7446, -6.9104, -6.5466, -6.9159, -6.9446, -6.9695, -6.9796, -7.0074, -6.9247, -7.0464, -6.9501, -6.9661, -6.7927, -7.1216, -6.8167, -7.106, -7.1714, -6.8615, -7.1884, -7.1937, -7.1937, -6.7614, -7.2122, -6.8253, -6.213, -6.7952, -6.1671, -5.8521, -6.262, -6.3194, -4.9006, -5.1036, -6.4285, -5.9401, -6.3019, -6.2689, -6.0179, -5.5965, -6.4412, -6.1642, -5.8503, -6.2035, -6.5824, -6.5616, -6.3418, -6.4948, -6.092, -6.17, -6.0604, -5.9403, -5.9905, -5.9358, -6.1894, -6.2413, -6.2677, -6.2306, -6.1544, -6.322, -6.2836, -6.5425, -6.168, -6.5396, -6.6294, -6.833, -6.6604, -6.9492, -6.7356, -6.7638, -6.6889, -6.5035, -6.7351, -6.7695, -7.0597, -7.0534, -6.6053, -7.0768, -7.0943, -6.2184, -6.3659, -7.1109, -6.6534, -6.8433, -7.1318, -6.7787, -6.9599, -6.9491, -7.17, -6.8836, -6.7862, -7.0056, -6.479, -5.904, -6.2438, -6.28, -6.4393, -6.7235, -6.6629, -6.0736, -5.92, -5.1824, -6.0275, -6.5248, -6.3783, -5.3883, -6.2686, -5.9066, -6.0536, -6.2709, -6.0433, -6.3119, -6.2401, -5.8107, -5.8897, -5.9218, -6.2798, -6.1487, -6.0711, -6.303, -6.3709, -6.3383, -6.377, -6.3863, -6.3257, -5.7701, -6.0382, -6.3128, -6.474, -6.3512, -6.7524, -6.8445, -6.4759, -6.8859, -6.5601, -6.5513, -6.3089, -6.9448, -6.3741, -6.9562, -6.9773, -6.5014, -6.9982, -6.7315, -6.919, -6.7225, -7.0394, -7.0438, -7.0668, -6.6277, -6.856, -7.0801, -7.1008, -6.9271, -6.8038, -6.3558, -6.4369, -6.4796, -5.866, -6.6025, -5.4265, -5.7669, -6.0186, -6.0711, -5.6329, -5.6377, -6.3206, -5.9691, -6.3937, -6.0166, -5.5031, -6.0969, -6.4868, -6.1453, -6.1126, -5.8502, -5.8552, -5.9632, -6.054, -6.1033, -6.2091, -6.1424, -6.3527, -6.3237, -6.3377, -6.3519, -6.327, -6.5071, -6.498, -6.6987, -6.6379, -6.6525, -6.9026, -6.5247, -6.9539, -6.8375, -6.9845, -6.991, -6.9307, -7.0508, -6.8708, -6.9902, -7.0946, -6.9905, -6.3203, -6.9372, -6.5797, -6.5431, -7.1729, -6.9254, -6.8616, -7.0908, -7.2106, -7.212, -6.5035, -6.0699, -6.101, -6.6005, -6.4145, -6.8866, -6.8251, -6.3336, -6.5788, -5.2472, -6.2857, -6.4607, -6.4553, -6.7022, -6.3944, -5.8242, -5.6283, -5.4838, -5.9335, -6.6804, -6.1486, -6.0198, -5.7799, -6.1705, -5.848, -6.2886, -6.4455, -6.4268, -6.2426, -6.4535, -6.2479, -6.3602, -6.3625, -6.441, -6.4553, -6.453]}, \"token.table\": {\"Topic\": [1, 3, 5, 3, 1, 2, 4, 1, 2, 1, 2, 4, 1, 1, 1, 4, 5, 3, 1, 1, 4, 1, 2, 3, 4, 5, 1, 5, 5, 1, 2, 3, 4, 5, 1, 4, 5, 1, 1, 2, 3, 4, 5, 4, 1, 5, 1, 2, 4, 1, 1, 1, 1, 2, 1, 2, 1, 3, 3, 1, 1, 2, 1, 2, 5, 4, 2, 4, 1, 3, 1, 2, 3, 4, 1, 1, 5, 1, 5, 1, 1, 2, 3, 4, 5, 1, 3, 1, 2, 4, 4, 1, 1, 3, 4, 1, 1, 2, 5, 1, 1, 1, 1, 3, 1, 2, 4, 5, 1, 1, 1, 2, 1, 2, 3, 1, 2, 4, 5, 1, 2, 1, 3, 3, 1, 2, 2, 2, 1, 2, 3, 4, 5, 1, 2, 1, 1, 2, 3, 1, 2, 4, 1, 2, 3, 4, 1, 5, 5, 5, 4, 1, 2, 3, 1, 3, 3, 1, 3, 1, 5, 1, 3, 1, 3, 4, 5, 5, 1, 3, 3, 1, 4, 4, 2, 1, 2, 3, 1, 2, 3, 4, 5, 1, 2, 3, 4, 5, 1, 1, 2, 3, 4, 3, 5, 1, 2, 3, 2, 1, 2, 3, 4, 5, 1, 5, 3, 1, 3, 4, 4, 1, 5, 5, 3, 4, 5, 4, 3, 4, 4, 3, 3, 4, 1, 2, 1, 3, 1, 1, 1, 3, 1, 1, 2, 5, 1, 2, 1, 3, 3, 2, 1, 4, 1, 4, 1, 3, 1, 3, 4, 4, 1, 2, 4, 1, 1, 2, 4, 1, 1, 2, 3, 1, 2, 4, 5, 1, 2, 3, 4, 4, 1, 3, 3, 1, 5, 3, 4, 1, 2, 1, 2, 1, 2, 3, 2, 1, 4, 1, 4, 1, 3, 4, 1, 2, 4, 5, 1, 2, 4, 5, 1, 2, 3, 4, 1, 2, 3, 4, 5], \"Freq\": [0.6668358390520742, 0.22227861301735807, 0.22227861301735807, 0.7680371521618724, 0.42641937598734314, 0.21320968799367157, 0.21320968799367157, 0.5936329173828334, 0.8595050392293984, 0.3516018341796756, 0.3516018341796756, 0.3516018341796756, 0.6006036655052877, 0.5436216743717289, 0.47229174975969623, 0.47229174975969623, 0.47229174975969623, 0.9421241525330738, 0.4825352851106552, 0.405183694073148, 0.405183694073148, 0.5653022607526319, 0.09421704345877198, 0.09421704345877198, 0.09421704345877198, 0.09421704345877198, 0.3915475686692256, 0.3915475686692256, 0.6329951607193681, 0.3311750445063116, 0.2483812833797337, 0.1655875222531558, 0.1655875222531558, 0.0827937611265779, 0.5009221267192303, 0.25046106335961515, 0.7842661032654983, 0.7527167391858894, 0.39937448303481493, 0.23962468982088894, 0.15974979321392596, 0.07987489660696298, 0.07987489660696298, 0.9023759478946473, 0.5462624351069346, 0.5462624351069346, 0.558756787578926, 0.279378393789463, 0.642740241212044, 0.6161686636144287, 0.8865107652180179, 0.66752033858457, 0.43852175339744764, 0.21926087669872382, 0.5145185046821902, 0.9052745125217713, 0.5519966888722108, 0.5519966888722108, 0.6023330614870585, 0.6010937544807987, 0.4302601891976222, 0.4302601891976222, 0.47343430525421887, 0.23671715262710943, 0.23671715262710943, 0.8215611049673173, 0.9094626245659629, 0.8890279801428982, 0.5954367587517173, 0.29771837937585865, 0.4962316505297639, 0.24811582526488196, 0.24811582526488196, 0.24811582526488196, 0.7242127666992583, 0.4345510669133211, 0.4345510669133211, 0.7693322935741875, 0.884854237268331, 0.9166029703563772, 0.6703409750043396, 0.09576299642919138, 0.09576299642919138, 0.09576299642919138, 0.09576299642919138, 0.5589867410922291, 0.27949337054611456, 0.7064919276640781, 0.23549730922135936, 0.8261153388300482, 0.7169923960084329, 0.5560006934352553, 0.3455710868071172, 0.3455710868071172, 0.3455710868071172, 0.9263262298519713, 0.29468326549199264, 0.29468326549199264, 0.29468326549199264, 0.7463414737921702, 0.6510802182339431, 0.7553099531549259, 0.46725987285853676, 0.46725987285853676, 0.4805626131181899, 0.16018753770606328, 0.16018753770606328, 0.16018753770606328, 0.667163779777224, 0.9297472107879732, 0.4840968794160625, 0.4840968794160625, 0.6255623129762508, 0.20852077099208358, 0.20852077099208358, 0.45549495583306754, 0.22774747791653377, 0.11387373895826688, 0.22774747791653377, 0.485838340286052, 0.485838340286052, 0.6276150144326547, 0.31380750721632733, 0.664085071458487, 0.609751558917077, 0.609751558917077, 0.4869219116583343, 0.9031287626546457, 0.4804854763518002, 0.16016182545060006, 0.16016182545060006, 0.16016182545060006, 0.16016182545060006, 0.5662349866067252, 0.5662349866067252, 0.6104843147224801, 0.3223204070554489, 0.3223204070554489, 0.3223204070554489, 0.5068674585852759, 0.25343372929263797, 0.25343372929263797, 0.3900959749454403, 0.19504798747272015, 0.19504798747272015, 0.3900959749454403, 0.47624970225083085, 0.47624970225083085, 0.9693462744851887, 0.5254759767259579, 0.7989544753441706, 0.6060653257464333, 0.20202177524881113, 0.20202177524881113, 0.44835736094416634, 0.22417868047208317, 0.5806933397514518, 0.4906009146252188, 0.4906009146252188, 0.4739680764032538, 0.4739680764032538, 0.5066001451410174, 0.2533000725705087, 0.5441156710557423, 0.18137189035191412, 0.18137189035191412, 0.18137189035191412, 1.016516210826566, 0.7881804331239174, 0.8316146910717408, 0.8345761053440724, 0.5329005442218965, 0.5329005442218965, 0.4971997616896119, 0.42968975185658576, 0.6237173800605396, 0.48245609279163193, 0.48245609279163193, 0.442821531188781, 0.11070538279719525, 0.11070538279719525, 0.11070538279719525, 0.11070538279719525, 0.3555070010090473, 0.17775350050452365, 0.17775350050452365, 0.17775350050452365, 0.17775350050452365, 0.8123699829701404, 0.5782132140654767, 0.11564264281309532, 0.11564264281309532, 0.11564264281309532, 0.9356906421936203, 0.7316498975832926, 0.3728493844565785, 0.3728493844565785, 0.6690199568849957, 0.8300847467779098, 0.38197016906660886, 0.19098508453330443, 0.19098508453330443, 0.19098508453330443, 0.19098508453330443, 0.5811291957531978, 0.5811291957531978, 0.7557868362288608, 0.3462997880078494, 0.3462997880078494, 0.3462997880078494, 0.8763007595003943, 0.41595974445055484, 0.41595974445055484, 0.6455189893602891, 0.2901916192744067, 0.2901916192744067, 0.2901916192744067, 0.6864976443948716, 0.49026395453614846, 0.49026395453614846, 0.6842162057876968, 0.9985299962087274, 0.6068087129922439, 0.6068087129922439, 0.4822053983675527, 0.4822053983675527, 0.5642101216654586, 0.2821050608327293, 0.513899623215573, 0.751486972295496, 0.7169622548059179, 0.35848112740295895, 0.5555238519925063, 0.5220490888071337, 0.5220490888071337, 0.88819885033981, 0.7434357786823556, 0.8884961968810189, 0.36256901471914177, 0.36256901471914177, 0.9918727018393025, 0.5239838128954677, 0.6304494680389587, 0.7940000403552278, 0.496204018564485, 0.7135526028871088, 0.8209482412952046, 0.8461244736641202, 0.27663512611841323, 0.27663512611841323, 0.27663512611841323, 0.7757616941366691, 0.5127845867461467, 0.1709281955820489, 0.1709281955820489, 0.7816065222675448, 0.4387194846287744, 0.4387194846287744, 0.4387194846287744, 0.6759554818725372, 0.29408730761976193, 0.29408730761976193, 0.29408730761976193, 0.25858135859132814, 0.25858135859132814, 0.25858135859132814, 0.25858135859132814, 0.5340977328259771, 0.17803257760865904, 0.17803257760865904, 0.17803257760865904, 0.8900558260284966, 0.3467823866250754, 0.3467823866250754, 0.9304379176878236, 0.46876630364956895, 0.46876630364956895, 0.6389699178276627, 0.8666824651171765, 0.45517037668694366, 0.45517037668694366, 0.6061873323790135, 0.3030936661895067, 0.3427627272047826, 0.3427627272047826, 0.3427627272047826, 0.3729830383028994, 0.3862625626554522, 0.3862625626554522, 0.7851466328999358, 0.6387064237215966, 0.421297102444549, 0.2106485512222745, 0.2106485512222745, 0.5072729295289948, 0.16909097650966495, 0.16909097650966495, 0.16909097650966495, 0.2621173474008445, 0.2621173474008445, 0.2621173474008445, 0.2621173474008445, 0.6254564878966212, 0.1563641219741553, 0.1563641219741553, 0.1563641219741553, 0.6619432146849893, 0.13238864293699784, 0.13238864293699784, 0.13238864293699784, 0.13238864293699784], \"Term\": [\"act\", \"act\", \"act\", \"acting\", \"action\", \"action\", \"action\", \"adapt\", \"adapting\", \"address\", \"address\", \"address\", \"agreement\", \"agriculture\", \"approach\", \"approach\", \"approach\", \"beautiful\", \"best\", \"better\", \"better\", \"carbon\", \"carbon\", \"carbon\", \"carbon\", \"carbon\", \"cars\", \"cars\", \"central\", \"change\", \"change\", \"change\", \"change\", \"change\", \"changes\", \"changes\", \"citizens\", \"clean\", \"climate\", \"climate\", \"climate\", \"climate\", \"climate\", \"collaboration\", \"comments\", \"comments\", \"commission\", \"commission\", \"consent\", \"consumption\", \"costs\", \"countries\", \"country\", \"country\", \"credits\", \"crucial\", \"data\", \"data\", \"decisions\", \"dioxide\", \"does\", \"does\", \"don\", \"don\", \"don\", \"dont\", \"dump\", \"earlier\", \"economic\", \"economic\", \"economy\", \"economy\", \"economy\", \"economy\", \"effective\", \"effects\", \"effects\", \"efficient\", \"election\", \"electricity\", \"emissions\", \"emissions\", \"emissions\", \"emissions\", \"emissions\", \"energy\", \"energy\", \"environment\", \"environment\", \"environmentally\", \"ets\", \"example\", \"far\", \"far\", \"far\", \"farmers\", \"farming\", \"farming\", \"farming\", \"feedback\", \"focus\", \"focused\", \"food\", \"food\", \"future\", \"future\", \"future\", \"future\", \"gas\", \"gases\", \"given\", \"given\", \"global\", \"global\", \"global\", \"government\", \"government\", \"government\", \"government\", \"governments\", \"governments\", \"green\", \"green\", \"happy\", \"https\", \"https\", \"huge\", \"ignore\", \"important\", \"important\", \"important\", \"important\", \"important\", \"industries\", \"industries\", \"industry\", \"information\", \"information\", \"information\", \"issue\", \"issue\", \"issue\", \"just\", \"just\", \"just\", \"just\", \"key\", \"key\", \"kids\", \"know\", \"late\", \"let\", \"let\", \"let\", \"like\", \"like\", \"little\", \"living\", \"living\", \"local\", \"local\", \"long\", \"long\", \"make\", \"make\", \"make\", \"make\", \"mandate\", \"mandated\", \"mandatory\", \"meat\", \"ministry\", \"ministry\", \"moment\", \"money\", \"moral\", \"natural\", \"natural\", \"need\", \"need\", \"need\", \"need\", \"need\", \"needs\", \"needs\", \"needs\", \"needs\", \"needs\", \"net\", \"new\", \"new\", \"new\", \"new\", \"noted\", \"old\", \"opportunity\", \"opportunity\", \"overdue\", \"particular\", \"people\", \"people\", \"people\", \"people\", \"people\", \"planting\", \"planting\", \"potential\", \"power\", \"power\", \"power\", \"principle\", \"problem\", \"problem\", \"proposal\", \"public\", \"public\", \"public\", \"publish\", \"published\", \"published\", \"putting\", \"rail\", \"read\", \"read\", \"real\", \"real\", \"reduce\", \"reduce\", \"reductions\", \"regional\", \"reporting\", \"reporting\", \"requirements\", \"research\", \"research\", \"rise\", \"risk\", \"scam\", \"science\", \"science\", \"scrap\", \"seriously\", \"set\", \"setting\", \"short\", \"species\", \"stakeholders\", \"standard\", \"submission\", \"submission\", \"submission\", \"submissions\", \"support\", \"support\", \"support\", \"sustainable\", \"taking\", \"taking\", \"taking\", \"target\", \"tax\", \"tax\", \"tax\", \"thank\", \"thank\", \"thank\", \"thank\", \"time\", \"time\", \"time\", \"time\", \"track\", \"transport\", \"transport\", \"travel\", \"trees\", \"trees\", \"understand\", \"urgency\", \"used\", \"used\", \"want\", \"want\", \"warming\", \"warming\", \"warming\", \"waste\", \"website\", \"website\", \"wider\", \"wish\", \"work\", \"work\", \"work\", \"world\", \"world\", \"world\", \"world\", \"years\", \"years\", \"years\", \"years\", \"zealand\", \"zealand\", \"zealand\", \"zealand\", \"zero\", \"zero\", \"zero\", \"zero\", \"zero\"]}, \"R\": 30, \"lambda.step\": 0.01, \"plot.opts\": {\"xlab\": \"PC1\", \"ylab\": \"PC2\"}, \"topic.order\": [5, 4, 3, 1, 2]};\n",
       "\n",
       "function LDAvis_load_lib(url, callback){\n",
       "  var s = document.createElement('script');\n",
       "  s.src = url;\n",
       "  s.async = true;\n",
       "  s.onreadystatechange = s.onload = callback;\n",
       "  s.onerror = function(){console.warn(\"failed to load library \" + url);};\n",
       "  document.getElementsByTagName(\"head\")[0].appendChild(s);\n",
       "}\n",
       "\n",
       "if(typeof(LDAvis) !== \"undefined\"){\n",
       "   // already loaded: just create the visualization\n",
       "   !function(LDAvis){\n",
       "       new LDAvis(\"#\" + \"ldavis_el29371399345354787365012825454\", ldavis_el29371399345354787365012825454_data);\n",
       "   }(LDAvis);\n",
       "}else if(typeof define === \"function\" && define.amd){\n",
       "   // require.js is available: use it to load d3/LDAvis\n",
       "   require.config({paths: {d3: \"https://cdnjs.cloudflare.com/ajax/libs/d3/3.5.5/d3.min\"}});\n",
       "   require([\"d3\"], function(d3){\n",
       "      window.d3 = d3;\n",
       "      LDAvis_load_lib(\"https://cdn.rawgit.com/bmabey/pyLDAvis/files/ldavis.v1.0.0.js\", function(){\n",
       "        new LDAvis(\"#\" + \"ldavis_el29371399345354787365012825454\", ldavis_el29371399345354787365012825454_data);\n",
       "      });\n",
       "    });\n",
       "}else{\n",
       "    // require.js not available: dynamically load d3 & LDAvis\n",
       "    LDAvis_load_lib(\"https://cdnjs.cloudflare.com/ajax/libs/d3/3.5.5/d3.min.js\", function(){\n",
       "         LDAvis_load_lib(\"https://cdn.rawgit.com/bmabey/pyLDAvis/files/ldavis.v1.0.0.js\", function(){\n",
       "                 new LDAvis(\"#\" + \"ldavis_el29371399345354787365012825454\", ldavis_el29371399345354787365012825454_data);\n",
       "            })\n",
       "         });\n",
       "}\n",
       "</script>"
      ],
      "text/plain": [
       "PreparedData(topic_coordinates=              x         y  topics  cluster       Freq\n",
       "topic                                                \n",
       "4      0.054490  0.004766       1        1  39.142139\n",
       "3     -0.003584 -0.033140       2        1  16.589638\n",
       "2     -0.013288  0.035864       3        1  15.863246\n",
       "0     -0.021121  0.005511       4        1  15.076499\n",
       "1     -0.016496 -0.013001       5        1  13.328478, topic_info=     Category       Freq        Term      Total  loglift  logprob\n",
       "340   Default  12.000000     climate  12.000000  30.0000  30.0000\n",
       "1408  Default   2.000000      moment   2.000000  29.0000  29.0000\n",
       "941   Default   8.000000  government   8.000000  28.0000  28.0000\n",
       "2393  Default   2.000000       waste   2.000000  27.0000  27.0000\n",
       "1741  Default   3.000000      public   3.000000  26.0000  26.0000\n",
       "...       ...        ...         ...        ...      ...      ...\n",
       "904    Topic5   0.606652      future   6.242683  -0.3159  -6.3602\n",
       "680    Topic5   0.605268   emissions  10.442447  -0.8327  -6.3625\n",
       "815    Topic5   0.559575     farming   3.393474   0.2128  -6.4410\n",
       "27     Topic5   0.551640         act   4.498858  -0.0834  -6.4553\n",
       "1320   Topic5   0.552885        make   5.513534  -0.2845  -6.4530\n",
       "\n",
       "[345 rows x 6 columns], token_table=      Topic      Freq    Term\n",
       "term                         \n",
       "27        1  0.666836     act\n",
       "27        3  0.222279     act\n",
       "27        5  0.222279     act\n",
       "28        3  0.768037  acting\n",
       "29        1  0.426419  action\n",
       "...     ...       ...     ...\n",
       "2467      1  0.661943    zero\n",
       "2467      2  0.132389    zero\n",
       "2467      3  0.132389    zero\n",
       "2467      4  0.132389    zero\n",
       "2467      5  0.132389    zero\n",
       "\n",
       "[311 rows x 3 columns], R=30, lambda_step=0.01, plot_opts={'xlab': 'PC1', 'ylab': 'PC2'}, topic_order=[5, 4, 3, 1, 2])"
      ]
     },
     "execution_count": 28,
     "metadata": {},
     "output_type": "execute_result"
    }
   ],
   "source": [
    "# NOTE: This step takes a long while to return\n",
    "prepared_data = pyLDAvis.sklearn.prepare(lda, vectorized_data, vectorizer)\n",
    "prepared_data"
   ]
  },
  {
   "cell_type": "code",
   "execution_count": null,
   "metadata": {},
   "outputs": [],
   "source": [
    "# WAIT here for previous step to return\n"
   ]
  }
 ],
 "metadata": {
  "kernelspec": {
   "display_name": "Python 3",
   "language": "python",
   "name": "python3"
  },
  "language_info": {
   "codemirror_mode": {
    "name": "ipython",
    "version": 3
   },
   "file_extension": ".py",
   "mimetype": "text/x-python",
   "name": "python",
   "nbconvert_exporter": "python",
   "pygments_lexer": "ipython3",
   "version": "3.7.4"
  }
 },
 "nbformat": 4,
 "nbformat_minor": 2
}
