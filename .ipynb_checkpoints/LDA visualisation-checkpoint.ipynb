{
 "cells": [
  {
   "cell_type": "code",
   "execution_count": 1,
   "metadata": {},
   "outputs": [],
   "source": [
    "import pyLDAvis\n",
    "import pyLDAvis.sklearn\n",
    "\n",
    "from sklearn.feature_extraction.text import TfidfVectorizer, CountVectorizer\n",
    "from sklearn.decomposition import LatentDirichletAllocation\n",
    "from glob import glob\n",
    "\n",
    "import matplotlib.pyplot as plt\n",
    "import numpy\n",
    "import seaborn"
   ]
  },
  {
   "cell_type": "code",
   "execution_count": 2,
   "metadata": {},
   "outputs": [],
   "source": [
    "def files_using_word(filenames, word):\n",
    "    files_with_word = []\n",
    "    for filename in filenames:\n",
    "        if word_in_file(word, filename):\n",
    "            files_with_word.append(filename)\n",
    "    return files_with_word\n",
    "\n",
    "def word_in_file(word, filename):\n",
    "    with open(filename) as f:\n",
    "        contents = f.read().lower()\n",
    "        return (word in contents)\n"
   ]
  },
  {
   "cell_type": "code",
   "execution_count": 3,
   "metadata": {},
   "outputs": [],
   "source": [
    "pyLDAvis.enable_notebook()"
   ]
  },
  {
   "cell_type": "code",
   "execution_count": 4,
   "metadata": {},
   "outputs": [
    {
     "name": "stdout",
     "output_type": "stream",
     "text": [
      "We have 599 files to read\n"
     ]
    }
   ],
   "source": [
    "# raw_texts: the actual text of the files\n",
    "# filenames: a list of filenames\n",
    "\n",
    "FILE_PATTERN = 'zero-carbon-bill/input/*.json'\n",
    "\n",
    "filenames = glob(FILE_PATTERN)\n",
    "\n",
    "print(\"We have {num} files to read\".format(num=len(filenames)))"
   ]
  },
  {
   "cell_type": "code",
   "execution_count": 5,
   "metadata": {},
   "outputs": [],
   "source": [
    "# Converts the documents into a matrix of features\n",
    "# features are interesting words\n",
    "# https://scikit-learn.org/stable/modules/generated/sklearn.feature_extraction.text.TfidfVectorizer.html\n",
    "\n",
    "# vectorizer = TfidfVectorizer(strip_accents = 'unicode',\n",
    "#                                 stop_words = 'english',\n",
    "#                                 lowercase = True,\n",
    "#                                 token_pattern = r'\\b[a-zA-Zā]{3,}\\b',\n",
    "#                                 max_df = 0.5, \n",
    "#                                 min_df = 2,\n",
    "#                                 input = 'filename')\n",
    "\n",
    "vectorizer =  CountVectorizer(strip_accents = 'unicode',\n",
    "                                stop_words = 'english',\n",
    "                                lowercase = True,\n",
    "                                token_pattern = r'\\b[a-zA-Zā]{3,}\\b',\n",
    "                                max_df = 0.5, \n",
    "                                min_df = 2,\n",
    "                                input = 'filename')\n",
    "\n",
    "# this is a DTM - document-term matrix\n",
    "vectorized_data = vectorizer.fit_transform(filenames)\n"
   ]
  },
  {
   "cell_type": "code",
   "execution_count": 6,
   "metadata": {},
   "outputs": [
    {
     "name": "stdout",
     "output_type": "stream",
     "text": [
      "There are 599 groups from 2468 words\n"
     ]
    }
   ],
   "source": [
    "shape = vectorized_data.shape\n",
    "print(\"There are {} groups from {} words\".format(shape[0], shape[1]))"
   ]
  },
  {
   "cell_type": "code",
   "execution_count": 7,
   "metadata": {},
   "outputs": [
    {
     "data": {
      "text/plain": [
       "LatentDirichletAllocation(batch_size=128, doc_topic_prior=None,\n",
       "                          evaluate_every=-1, learning_decay=0.7,\n",
       "                          learning_method='batch', learning_offset=10.0,\n",
       "                          max_doc_update_iter=100, max_iter=10,\n",
       "                          mean_change_tol=0.001, n_components=10, n_jobs=None,\n",
       "                          perp_tol=0.1, random_state=0, topic_word_prior=None,\n",
       "                          total_samples=1000000.0, verbose=0)"
      ]
     },
     "execution_count": 7,
     "metadata": {},
     "output_type": "execute_result"
    }
   ],
   "source": [
    "lda = LatentDirichletAllocation(n_components=10, random_state=0)\n",
    "lda.fit(vectorized_data)"
   ]
  },
  {
   "cell_type": "code",
   "execution_count": 8,
   "metadata": {},
   "outputs": [
    {
     "name": "stdout",
     "output_type": "stream",
     "text": [
      "We have 1000000.0 samples\n"
     ]
    }
   ],
   "source": [
    "print(\"We have {} samples\".format(lda.total_samples))\n"
   ]
  },
  {
   "cell_type": "code",
   "execution_count": 9,
   "metadata": {},
   "outputs": [
    {
     "name": "stdout",
     "output_type": "stream",
     "text": [
      "\n",
      "Topic #0:\n",
      "new emissions zealand carbon government economy transition need future change\n",
      "\n",
      "Topic #1:\n",
      "change climate government need new zealand just batteries policy action\n",
      "\n",
      "Topic #2:\n",
      "carbon cars electric com http html incentives tax power use\n",
      "\n",
      "Topic #3:\n",
      "carbon climate change emissions support new zealand farming zero global\n",
      "\n",
      "Topic #4:\n",
      "need change emissions energy make like new carbon electric public\n",
      "\n",
      "Topic #5:\n",
      "climate change new future global need emissions zero zealand years\n",
      "\n",
      "Topic #6:\n",
      "climate change carbon emissions new years energy need world zealand\n",
      "\n",
      "Topic #7:\n",
      "change emissions climate carbon zero time net need agriculture government\n",
      "\n",
      "Topic #8:\n",
      "need government needs world carbon emissions change trees make soil\n",
      "\n",
      "Topic #9:\n",
      "emissions needs change new government climate targets need environment agriculture\n"
     ]
    }
   ],
   "source": [
    "# Helper function\n",
    "def print_topics(model, count_vectorizer, n_top_words):\n",
    "    words = count_vectorizer.get_feature_names()\n",
    "    for topic_idx, topic in enumerate(model.components_):\n",
    "        print(\"\\nTopic #%d:\" % topic_idx)\n",
    "        topic_words = [words[i] for i in topic.argsort()[:-n_top_words - 1:-1]]\n",
    "        print(\" \".join(topic_words))\n",
    "        \n",
    "# Tweak the two parameters below\n",
    "number_of_topics = 5\n",
    "number_of_words = 10\n",
    "\n",
    "print_topics(lda, vectorizer, number_of_words)"
   ]
  },
  {
   "cell_type": "code",
   "execution_count": 10,
   "metadata": {},
   "outputs": [
    {
     "data": {
      "image/png": "[encoded data removed]",
      "text/plain": [
       "<Figure size 1080x667.491 with 1 Axes>"
      ]
     },
     "metadata": {
      "needs_background": "light"
     },
     "output_type": "display_data"
    }
   ],
   "source": [
    "def plot_10_most_common_words(count_data, count_vectorizer):\n",
    "    words = count_vectorizer.get_feature_names()\n",
    "    total_counts = numpy.zeros(len(words))\n",
    "    for t in count_data:\n",
    "        total_counts+=t.toarray()[0]\n",
    "    \n",
    "    count_dict = (zip(words, total_counts))\n",
    "    count_dict = sorted(count_dict, key=lambda x:x[1], reverse=True)[0:10]\n",
    "    words = [w[0] for w in count_dict]\n",
    "    counts = [w[1] for w in count_dict]\n",
    "    x_pos = numpy.arange(len(words)) \n",
    "    \n",
    "    plt.figure(2, figsize=(15, 15/1.6180))\n",
    "    plt.subplot(title='10 most common words')\n",
    "    seaborn.set_context(\"notebook\", font_scale=1.25, rc={\"lines.linewidth\": 2.5})\n",
    "    seaborn.barplot(x_pos, counts, palette='husl')\n",
    "    plt.xticks(x_pos, words, rotation=90) \n",
    "    plt.xlabel('words')\n",
    "    plt.ylabel('counts')\n",
    "    plt.show()\n",
    "\n",
    "# Visualise the 10 most common words\n",
    "plot_10_most_common_words(vectorized_data, vectorizer)\n"
   ]
  },
  {
   "cell_type": "code",
   "execution_count": null,
   "metadata": {},
   "outputs": [],
   "source": [
    "# NOTE: This step takes a long while to return\n",
    "prepared_data = pyLDAvis.sklearn.prepare(lda, vectorized_data, vectorizer)\n",
    "prepared_data"
   ]
  },
  {
   "cell_type": "code",
   "execution_count": null,
   "metadata": {},
   "outputs": [],
   "source": [
    "# WAIT here for previous step to return\n"
   ]
  }
 ],
 "metadata": {
  "kernelspec": {
   "display_name": "Python 3",
   "language": "python",
   "name": "python3"
  },
  "language_info": {
   "codemirror_mode": {
    "name": "ipython",
    "version": 3
   },
   "file_extension": ".py",
   "mimetype": "text/x-python",
   "name": "python",
   "nbconvert_exporter": "python",
   "pygments_lexer": "ipython3",
   "version": "3.7.4"
  }
 },
 "nbformat": 4,
 "nbformat_minor": 2
}
