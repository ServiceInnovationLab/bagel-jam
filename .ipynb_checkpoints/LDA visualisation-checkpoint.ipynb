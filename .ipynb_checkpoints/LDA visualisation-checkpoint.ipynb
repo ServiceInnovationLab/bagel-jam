{
 "cells": [
  {
   "cell_type": "code",
   "execution_count": 3,
   "metadata": {},
   "outputs": [],
   "source": [
    "import pyLDAvis\n",
    "import pyLDAvis.sklearn\n",
    "\n",
    "from sklearn.feature_extraction.text import TfidfVectorizer, CountVectorizer\n",
    "from sklearn.decomposition import LatentDirichletAllocation\n",
    "from glob import glob\n",
    "\n",
    "import matplotlib.pyplot as plt\n",
    "import numpy\n",
    "import seaborn"
   ]
  },
  {
   "cell_type": "code",
   "execution_count": 67,
   "metadata": {},
   "outputs": [],
   "source": [
    "# Tweak the two parameters below\n",
    "NUMBER_OF_TOPICS = 10\n",
    "NUMBER_OF_WORDS = 10"
   ]
  },
  {
   "cell_type": "code",
   "execution_count": 68,
   "metadata": {},
   "outputs": [],
   "source": [
    "def files_using_word(filenames, word):\n",
    "    files_with_word = []\n",
    "    for filename in filenames:\n",
    "        if word_in_file(word, filename):\n",
    "            files_with_word.append(filename)\n",
    "    return files_with_word\n",
    "\n",
    "def word_in_file(word, filename):\n",
    "    with open(filename) as f:\n",
    "        contents = f.read().lower()\n",
    "        return (word in contents)\n"
   ]
  },
  {
   "cell_type": "code",
   "execution_count": 69,
   "metadata": {},
   "outputs": [
    {
     "data": {
      "text/plain": [
       "['zero-carbon-bill/input/01875_Catherine_Doyle_Redacted.pdf.txt.json',\n",
       " 'zero-carbon-bill/input/02500_Cathryn_Faulkner_Redacted.pdf.txt.json',\n",
       " 'zero-carbon-bill/input/02075_Helen_Linssen_Redacted.pdf.txt.json',\n",
       " 'zero-carbon-bill/input/01149_Anonymous.pdf.txt.json',\n",
       " 'zero-carbon-bill/input/02020_William_Lionel_Hughes-Gamres_Redacted.pdf.txt.json',\n",
       " 'zero-carbon-bill/input/02059_Katerina_Zuzanna_Seligman_Redacted.pdf.txt.json',\n",
       " 'zero-carbon-bill/input/09493_Garry_David_Kyle_Redacted.pdf.txt.json',\n",
       " 'zero-carbon-bill/input/00717_Anonymous.pdf.txt.json',\n",
       " 'zero-carbon-bill/input/02178_Duncan_Brown_Redacted.pdf.txt.json',\n",
       " 'zero-carbon-bill/input/07285_Lyn_Minifie_Redacted.pdf.txt.json',\n",
       " 'zero-carbon-bill/input/08263_Pieter_van_Leeuwen_Redacted.pdf.txt.json',\n",
       " 'zero-carbon-bill/input/00139_Hadyn_James_Redacted.pdf.txt.json',\n",
       " 'zero-carbon-bill/input/09120_Neville_Baxter_Redacted.pdf.txt.json',\n",
       " 'zero-carbon-bill/input/09511_John_Adams_Redacted.pdf.txt.json',\n",
       " 'zero-carbon-bill/input/01816_Anonymous.pdf.txt.json',\n",
       " 'zero-carbon-bill/input/08351_Greg_Fisher_Redacted.pdf.txt.json',\n",
       " 'zero-carbon-bill/input/09388_Peter_John_Olorenshaw_Redacted.pdf.txt.json',\n",
       " 'zero-carbon-bill/input/08219_Anonymous.pdf.txt.json',\n",
       " 'zero-carbon-bill/input/08408_Inger_Perkins_Redacted.pdf.txt.json',\n",
       " 'zero-carbon-bill/input/07620_Ruth_Joiner_Redacted.pdf.txt.json',\n",
       " 'zero-carbon-bill/input/09444_Liam_Matthew_Williams-Prince_Redacted.pdf.txt.json',\n",
       " 'zero-carbon-bill/input/09539_Karen_Parr_Redacted.pdf.txt.json',\n",
       " 'zero-carbon-bill/input/02583_Carol_Sutherland_Redacted.pdf.txt.json',\n",
       " 'zero-carbon-bill/input/08990_Eion_Scott_Redacted.pdf.txt.json',\n",
       " 'zero-carbon-bill/input/2053_Ronald_Kevin_Low.pdf.txt.json',\n",
       " 'zero-carbon-bill/input/00632_Anonymous.pdf.txt.json',\n",
       " 'zero-carbon-bill/input/01799_Francis_Sharp_Redacted.pdf.txt.json',\n",
       " 'zero-carbon-bill/input/01748_Anonymous.pdf.txt.json',\n",
       " 'zero-carbon-bill/input/01971_Daniel_Joseph_Spinks_Redacted.pdf.txt.json',\n",
       " 'zero-carbon-bill/input/02052_Emma_Susan_Koch_Redacted.pdf.txt.json',\n",
       " 'zero-carbon-bill/input/01190_Keith_Stewart_Redacted.pdf.txt.json']"
      ]
     },
     "execution_count": 69,
     "metadata": {},
     "output_type": "execute_result"
    }
   ],
   "source": [
    "files_using_word(filenames, \"waste\")"
   ]
  },
  {
   "cell_type": "code",
   "execution_count": 70,
   "metadata": {},
   "outputs": [],
   "source": [
    "pyLDAvis.enable_notebook()"
   ]
  },
  {
   "cell_type": "code",
   "execution_count": 71,
   "metadata": {},
   "outputs": [
    {
     "name": "stdout",
     "output_type": "stream",
     "text": [
      "We have 599 files to read\n"
     ]
    }
   ],
   "source": [
    "# raw_texts: the actual text of the files\n",
    "# filenames: a list of filenames\n",
    "\n",
    "FILE_PATTERN = 'zero-carbon-bill/input/*.json'\n",
    "\n",
    "filenames = glob(FILE_PATTERN)\n",
    "\n",
    "print(\"We have {num} files to read\".format(num=len(filenames)))"
   ]
  },
  {
   "cell_type": "code",
   "execution_count": 72,
   "metadata": {},
   "outputs": [],
   "source": [
    "# # Import the wordcloud library\n",
    "# from wordcloud import WordCloud\n",
    "\n",
    "# # Join the different processed titles together.\n",
    "# long_string = ','.join(list(papers['paper_text_processed'].values))# Create a WordCloud object\n",
    "# wordcloud = WordCloud(background_color=\"white\", max_words=5000, contour_width=3, contour_color='steelblue')\n",
    "# # Generate a word cloud\n",
    "# wordcloud.generate(long_string)\n",
    "# # Visualize the word cloud\n",
    "# wordcloud.to_image()"
   ]
  },
  {
   "cell_type": "code",
   "execution_count": 78,
   "metadata": {},
   "outputs": [],
   "source": [
    "# Converts the documents into a matrix of features\n",
    "# features are interesting words\n",
    "# https://scikit-learn.org/stable/modules/generated/sklearn.feature_extraction.text.TfidfVectorizer.html\n",
    "\n",
    "vectorizer = TfidfVectorizer(strip_accents = 'unicode',\n",
    "                                stop_words = 'english',\n",
    "                                lowercase = True,\n",
    "                                token_pattern = r'\\b[a-zA-ZāēīōūĀĒĪŌŪ]{3,}\\b',\n",
    "                                max_df = 0.5, \n",
    "                                min_df = 2,\n",
    "                                input = 'filename')\n",
    "\n",
    "# vectorizer =  CountVectorizer(strip_accents = 'unicode',\n",
    "#                                 stop_words = 'english',\n",
    "#                                 lowercase = True,\n",
    "#                                 token_pattern = r'\\b[a-zA-Zā]{3,}\\b',\n",
    "#                                 max_df = 0.5, \n",
    "#                                 min_df = 2,\n",
    "#                                 input = 'filename')\n",
    "\n",
    "# this is a DTM - document-term matrix\n",
    "vectorized_data = vectorizer.fit_transform(filenames)\n"
   ]
  },
  {
   "cell_type": "code",
   "execution_count": 79,
   "metadata": {},
   "outputs": [
    {
     "data": {
      "text/plain": [
       "LatentDirichletAllocation(batch_size=128, doc_topic_prior=None,\n",
       "                          evaluate_every=-1, learning_decay=0.7,\n",
       "                          learning_method='batch', learning_offset=10.0,\n",
       "                          max_doc_update_iter=100, max_iter=10,\n",
       "                          mean_change_tol=0.001, n_components=10, n_jobs=None,\n",
       "                          perp_tol=0.1, random_state=None,\n",
       "                          topic_word_prior=None, total_samples=1000000.0,\n",
       "                          verbose=0)"
      ]
     },
     "execution_count": 79,
     "metadata": {},
     "output_type": "execute_result"
    }
   ],
   "source": [
    "lda = LatentDirichletAllocation(n_components=NUMBER_OF_TOPICS)\n",
    "lda.fit(vectorized_data)"
   ]
  },
  {
   "cell_type": "code",
   "execution_count": 80,
   "metadata": {
    "scrolled": false
   },
   "outputs": [
    {
     "name": "stdout",
     "output_type": "stream",
     "text": [
      "\n",
      "Topic 1:\n",
      "thank important issue farmers website long let costs government focus\n",
      "\n",
      "Topic 2:\n",
      "zealand leadership new address let key sustainable climate document support\n",
      "\n",
      "Topic 3:\n",
      "work thank hope adapting support climate data really prepared scrap\n",
      "\n",
      "Topic 4:\n",
      "yes second late shift burden kids law paid exciting proposals\n",
      "\n",
      "Topic 5:\n",
      "thank important ministry publish outcomes dont change national work natural\n",
      "\n",
      "Topic 6:\n",
      "moment submission organisations information risk public requirements government reporting mandated\n",
      "\n",
      "Topic 7:\n",
      "information huge seriously human decisions need pressure read climate sharing\n",
      "\n",
      "Topic 8:\n",
      "change climate carbon emissions need new zero government needs future\n",
      "\n",
      "Topic 9:\n",
      "just let dump clean leader don world govt regard pacific\n",
      "\n",
      "Topic 10:\n",
      "support change warming direction requires animal massive global making contact\n"
     ]
    }
   ],
   "source": [
    "# Helper function\n",
    "words = vectorizer.get_feature_names()\n",
    "for topic_idx, topic in enumerate(lda.components_):\n",
    "    print(\"\\nTopic {}:\".format(topic_idx+1))\n",
    "    topic_words = [words[i] for i in topic.argsort()[:-NUMBER_OF_WORDS - 1:-1]]\n",
    "    print(\" \".join(topic_words))\n",
    "\n"
   ]
  },
  {
   "cell_type": "code",
   "execution_count": 82,
   "metadata": {},
   "outputs": [
    {
     "data": {
      "image/png": "[encoded data removed]",
      "text/plain": [
       "<Figure size 1080x667.491 with 1 Axes>"
      ]
     },
     "metadata": {
      "needs_background": "light"
     },
     "output_type": "display_data"
    }
   ],
   "source": [
    "def plot_10_most_common_words(count_data, count_vectorizer):\n",
    "    words = count_vectorizer.get_feature_names()\n",
    "    total_counts = numpy.zeros(len(words))\n",
    "    for t in count_data:\n",
    "        total_counts+=t.toarray()[0]\n",
    "    \n",
    "    count_dict = (zip(words, total_counts))\n",
    "    count_dict = sorted(count_dict, key=lambda x:x[1], reverse=True)[0:10]\n",
    "    words = [w[0] for w in count_dict]\n",
    "    counts = [w[1] for w in count_dict]\n",
    "    x_pos = numpy.arange(len(words)) \n",
    "    \n",
    "    plt.figure(2, figsize=(15, 15/1.6180))\n",
    "    plt.subplot(title='10 most common words')\n",
    "    seaborn.set_context(\"notebook\", font_scale=1.25, rc={\"lines.linewidth\": 2.5})\n",
    "    seaborn.barplot(x_pos, counts, palette='husl')\n",
    "    plt.xticks(x_pos, words, rotation=90) \n",
    "    plt.xlabel('words')\n",
    "    plt.ylabel('counts')\n",
    "    plt.show()\n",
    "\n",
    "# Visualise the 10 most common words\n",
    "plot_10_most_common_words(vectorized_data, vectorizer)\n"
   ]
  },
  {
   "cell_type": "code",
   "execution_count": 83,
   "metadata": {
    "scrolled": true
   },
   "outputs": [
    {
     "name": "stderr",
     "output_type": "stream",
     "text": [
      "/home/brenda/.pyenv/versions/3.7.4/lib/python3.7/site-packages/pyLDAvis/_prepare.py:257: FutureWarning: Sorting because non-concatenation axis is not aligned. A future version\n",
      "of pandas will change to not sort by default.\n",
      "\n",
      "To accept the future behavior, pass 'sort=False'.\n",
      "\n",
      "To retain the current behavior and silence the warning, pass 'sort=True'.\n",
      "\n",
      "  return pd.concat([default_term_info] + list(topic_dfs))\n"
     ]
    },
    {
     "data": {
      "text/html": [
       "\n",
       "<link rel=\"stylesheet\" type=\"text/css\" href=\"https://cdn.rawgit.com/bmabey/pyLDAvis/files/ldavis.v1.0.0.css\">\n",
       "\n",
       "\n",
       "<div id=\"ldavis_el9581397528660018723160499844\"></div>\n",
       "<script type=\"text/javascript\">\n",
       "\n",
       "var ldavis_el9581397528660018723160499844_data = {\"mdsDat\": {\"x\": [-0.20970443524201857, 0.034930058595217015, 0.02891946590821805, 0.02077324200746963, 0.02159213561108584, 0.03209762671515149, 0.02427099012966203, 0.015254273287759367, 0.013212967442675012, 0.01865367554478008], \"y\": [0.00350469702171838, 0.02974740551010422, 0.06787702710961416, -0.01630689031856948, -0.008755723072499784, -0.022676732191132365, -0.018060841348518656, -0.01407205086487462, -0.0070042573810942055, -0.014252634464747803], \"topics\": [1, 2, 3, 4, 5, 6, 7, 8, 9, 10], \"cluster\": [1, 1, 1, 1, 1, 1, 1, 1, 1, 1], \"Freq\": [44.166011897111154, 8.141150940601161, 8.050994408195498, 6.561857011968774, 6.286734450513929, 5.772461657592989, 5.765950627319056, 5.461695694990305, 5.343640662028328, 4.449502649678794]}, \"tinfo\": {\"Category\": [\"Default\", \"Default\", \"Default\", \"Default\", \"Default\", \"Default\", \"Default\", \"Default\", \"Default\", \"Default\", \"Default\", \"Default\", \"Default\", \"Default\", \"Default\", \"Default\", \"Default\", \"Default\", \"Default\", \"Default\", \"Default\", \"Default\", \"Default\", \"Default\", \"Default\", \"Default\", \"Default\", \"Default\", \"Default\", \"Default\", \"Topic1\", \"Topic1\", \"Topic1\", \"Topic1\", \"Topic1\", \"Topic1\", \"Topic1\", \"Topic1\", \"Topic1\", \"Topic1\", \"Topic1\", \"Topic1\", \"Topic1\", \"Topic1\", \"Topic1\", \"Topic1\", \"Topic1\", \"Topic1\", \"Topic1\", \"Topic1\", \"Topic1\", \"Topic1\", \"Topic1\", \"Topic1\", \"Topic1\", \"Topic1\", \"Topic1\", \"Topic1\", \"Topic1\", \"Topic1\", \"Topic1\", \"Topic1\", \"Topic1\", \"Topic1\", \"Topic1\", \"Topic1\", \"Topic1\", \"Topic1\", \"Topic1\", \"Topic1\", \"Topic1\", \"Topic1\", \"Topic1\", \"Topic1\", \"Topic1\", \"Topic1\", \"Topic1\", \"Topic1\", \"Topic2\", \"Topic2\", \"Topic2\", \"Topic2\", \"Topic2\", \"Topic2\", \"Topic2\", \"Topic2\", \"Topic2\", \"Topic2\", \"Topic2\", \"Topic2\", \"Topic2\", \"Topic2\", \"Topic2\", \"Topic2\", \"Topic2\", \"Topic2\", \"Topic2\", \"Topic2\", \"Topic2\", \"Topic2\", \"Topic2\", \"Topic2\", \"Topic2\", \"Topic2\", \"Topic2\", \"Topic2\", \"Topic2\", \"Topic2\", \"Topic2\", \"Topic2\", \"Topic2\", \"Topic2\", \"Topic2\", \"Topic2\", \"Topic2\", \"Topic2\", \"Topic2\", \"Topic2\", \"Topic2\", \"Topic2\", \"Topic2\", \"Topic2\", \"Topic2\", \"Topic2\", \"Topic2\", \"Topic2\", \"Topic2\", \"Topic2\", \"Topic2\", \"Topic2\", \"Topic2\", \"Topic2\", \"Topic2\", \"Topic2\", \"Topic2\", \"Topic2\", \"Topic3\", \"Topic3\", \"Topic3\", \"Topic3\", \"Topic3\", \"Topic3\", \"Topic3\", \"Topic3\", \"Topic3\", \"Topic3\", \"Topic3\", \"Topic3\", \"Topic3\", \"Topic3\", \"Topic3\", \"Topic3\", \"Topic3\", \"Topic3\", \"Topic3\", \"Topic3\", \"Topic3\", \"Topic3\", \"Topic3\", \"Topic3\", \"Topic3\", \"Topic3\", \"Topic3\", \"Topic3\", \"Topic3\", \"Topic3\", \"Topic3\", \"Topic3\", \"Topic3\", \"Topic3\", \"Topic3\", \"Topic3\", \"Topic3\", \"Topic3\", \"Topic3\", \"Topic3\", \"Topic3\", \"Topic3\", \"Topic3\", \"Topic3\", \"Topic3\", \"Topic3\", \"Topic3\", \"Topic3\", \"Topic3\", \"Topic3\", \"Topic3\", \"Topic4\", \"Topic4\", \"Topic4\", \"Topic4\", \"Topic4\", \"Topic4\", \"Topic4\", \"Topic4\", \"Topic4\", \"Topic4\", \"Topic4\", \"Topic4\", \"Topic4\", \"Topic4\", \"Topic4\", \"Topic4\", \"Topic4\", \"Topic4\", \"Topic4\", \"Topic4\", \"Topic4\", \"Topic4\", \"Topic4\", \"Topic4\", \"Topic4\", \"Topic4\", \"Topic4\", \"Topic4\", \"Topic4\", \"Topic4\", \"Topic4\", \"Topic4\", \"Topic4\", \"Topic4\", \"Topic4\", \"Topic4\", \"Topic4\", \"Topic4\", \"Topic4\", \"Topic4\", \"Topic4\", \"Topic4\", \"Topic4\", \"Topic4\", \"Topic4\", \"Topic4\", \"Topic4\", \"Topic4\", \"Topic4\", \"Topic4\", \"Topic4\", \"Topic4\", \"Topic4\", \"Topic4\", \"Topic4\", \"Topic4\", \"Topic5\", \"Topic5\", \"Topic5\", \"Topic5\", \"Topic5\", \"Topic5\", \"Topic5\", \"Topic5\", \"Topic5\", \"Topic5\", \"Topic5\", \"Topic5\", \"Topic5\", \"Topic5\", \"Topic5\", \"Topic5\", \"Topic5\", \"Topic5\", \"Topic5\", \"Topic5\", \"Topic5\", \"Topic5\", \"Topic5\", \"Topic5\", \"Topic5\", \"Topic5\", \"Topic5\", \"Topic5\", \"Topic5\", \"Topic5\", \"Topic5\", \"Topic5\", \"Topic5\", \"Topic5\", \"Topic5\", \"Topic5\", \"Topic5\", \"Topic5\", \"Topic5\", \"Topic5\", \"Topic5\", \"Topic5\", \"Topic5\", \"Topic5\", \"Topic5\", \"Topic5\", \"Topic5\", \"Topic5\", \"Topic5\", \"Topic5\", \"Topic5\", \"Topic5\", \"Topic5\", \"Topic5\", \"Topic5\", \"Topic5\", \"Topic6\", \"Topic6\", \"Topic6\", \"Topic6\", \"Topic6\", \"Topic6\", \"Topic6\", \"Topic6\", \"Topic6\", \"Topic6\", \"Topic6\", \"Topic6\", \"Topic6\", \"Topic6\", \"Topic6\", \"Topic6\", \"Topic6\", \"Topic6\", \"Topic6\", \"Topic6\", \"Topic6\", \"Topic6\", \"Topic6\", \"Topic6\", \"Topic6\", \"Topic6\", \"Topic6\", \"Topic6\", \"Topic6\", \"Topic6\", \"Topic6\", \"Topic6\", \"Topic6\", \"Topic6\", \"Topic6\", \"Topic6\", \"Topic6\", \"Topic6\", \"Topic6\", \"Topic6\", \"Topic6\", \"Topic6\", \"Topic6\", \"Topic6\", \"Topic6\", \"Topic6\", \"Topic6\", \"Topic6\", \"Topic6\", \"Topic6\", \"Topic7\", \"Topic7\", \"Topic7\", \"Topic7\", \"Topic7\", \"Topic7\", \"Topic7\", \"Topic7\", \"Topic7\", \"Topic7\", \"Topic7\", \"Topic7\", \"Topic7\", \"Topic7\", \"Topic7\", \"Topic7\", \"Topic7\", \"Topic7\", \"Topic7\", \"Topic7\", \"Topic7\", \"Topic7\", \"Topic7\", \"Topic7\", \"Topic7\", \"Topic7\", \"Topic7\", \"Topic7\", \"Topic7\", \"Topic7\", \"Topic7\", \"Topic7\", \"Topic7\", \"Topic7\", \"Topic7\", \"Topic7\", \"Topic7\", \"Topic7\", \"Topic7\", \"Topic7\", \"Topic7\", \"Topic7\", \"Topic7\", \"Topic7\", \"Topic7\", \"Topic7\", \"Topic7\", \"Topic7\", \"Topic7\", \"Topic7\", \"Topic8\", \"Topic8\", \"Topic8\", \"Topic8\", \"Topic8\", \"Topic8\", \"Topic8\", \"Topic8\", \"Topic8\", \"Topic8\", \"Topic8\", \"Topic8\", \"Topic8\", \"Topic8\", \"Topic8\", \"Topic8\", \"Topic8\", \"Topic8\", \"Topic8\", \"Topic8\", \"Topic8\", \"Topic8\", \"Topic8\", \"Topic8\", \"Topic8\", \"Topic8\", \"Topic8\", \"Topic8\", \"Topic8\", \"Topic8\", \"Topic8\", \"Topic8\", \"Topic8\", \"Topic8\", \"Topic8\", \"Topic8\", \"Topic8\", \"Topic8\", \"Topic8\", \"Topic8\", \"Topic8\", \"Topic8\", \"Topic8\", \"Topic8\", \"Topic8\", \"Topic8\", \"Topic8\", \"Topic8\", \"Topic8\", \"Topic8\", \"Topic9\", \"Topic9\", \"Topic9\", \"Topic9\", \"Topic9\", \"Topic9\", \"Topic9\", \"Topic9\", \"Topic9\", \"Topic9\", \"Topic9\", \"Topic9\", \"Topic9\", \"Topic9\", \"Topic9\", \"Topic9\", \"Topic9\", \"Topic9\", \"Topic9\", \"Topic9\", \"Topic9\", \"Topic9\", \"Topic9\", \"Topic9\", \"Topic9\", \"Topic9\", \"Topic9\", \"Topic9\", \"Topic9\", \"Topic9\", \"Topic9\", \"Topic9\", \"Topic9\", \"Topic9\", \"Topic9\", \"Topic9\", \"Topic9\", \"Topic9\", \"Topic9\", \"Topic9\", \"Topic9\", \"Topic9\", \"Topic9\", \"Topic9\", \"Topic9\", \"Topic9\", \"Topic9\", \"Topic9\", \"Topic9\", \"Topic9\", \"Topic9\", \"Topic9\", \"Topic9\", \"Topic9\", \"Topic9\", \"Topic10\", \"Topic10\", \"Topic10\", \"Topic10\", \"Topic10\", \"Topic10\", \"Topic10\", \"Topic10\", \"Topic10\", \"Topic10\", \"Topic10\", \"Topic10\", \"Topic10\", \"Topic10\", \"Topic10\", \"Topic10\", \"Topic10\", \"Topic10\", \"Topic10\", \"Topic10\", \"Topic10\", \"Topic10\", \"Topic10\", \"Topic10\", \"Topic10\", \"Topic10\", \"Topic10\", \"Topic10\", \"Topic10\", \"Topic10\", \"Topic10\", \"Topic10\", \"Topic10\", \"Topic10\", \"Topic10\", \"Topic10\", \"Topic10\", \"Topic10\", \"Topic10\", \"Topic10\", \"Topic10\", \"Topic10\", \"Topic10\", \"Topic10\", \"Topic10\", \"Topic10\"], \"Freq\": [5.0, 3.0, 5.0, 3.0, 13.0, 2.0, 6.0, 12.0, 2.0, 2.0, 5.0, 4.0, 3.0, 15.0, 7.0, 10.0, 2.0, 4.0, 9.0, 2.0, 2.0, 4.0, 4.0, 7.0, 2.0, 7.0, 2.0, 2.0, 3.0, 10.0, 12.810759390723648, 4.999400254565008, 11.960019500508906, 4.357071328578746, 4.002210946046983, 3.9638528187025703, 4.1008749084312, 3.616443635873193, 3.5924252976043083, 3.6065459635556905, 6.8456706940315435, 3.342247846065351, 3.338864921189821, 3.5499923455550397, 8.18717280849661, 3.9942445884653925, 3.192865664507637, 3.163163530111781, 3.8975198361043955, 3.228050983141112, 2.989271843330864, 2.944538149808556, 3.206254689466333, 2.869919307429305, 2.7903631249362797, 2.7819554305205973, 2.971506669270177, 2.71386507989802, 4.915415699109718, 3.5223877146088145, 6.764545392708437, 6.17212860123596, 9.08540231649189, 13.230382435546133, 13.003956940504375, 9.247848910050692, 6.021077180560153, 4.891959970926422, 3.9949163798190472, 5.542893501590837, 7.858048947718712, 5.485649782309355, 5.733628627566736, 4.490091238081268, 3.860687529865554, 3.7868232022907766, 3.9477681173393573, 4.046351269405127, 0.44663664867048797, 0.3975167786673976, 0.4112430831358011, 0.4319876675238106, 0.4920640501958269, 0.35858920376728304, 0.4088987583886811, 0.3250317655975774, 0.46762200943754784, 0.3225084842830958, 0.32208948781434443, 0.3173792789744921, 0.31575647796715317, 0.3136681759651441, 0.4556821458936174, 0.4611735887960674, 0.326917186232441, 0.2936577895056106, 0.2914995785308251, 0.28686323137730424, 0.3055840561134258, 0.2815278038381872, 0.2815278038381872, 0.2811181030185694, 0.2798540931609512, 0.30862545134818464, 0.4618481763250437, 0.27187284477252055, 0.8194642088946148, 0.4953991912817119, 0.4398937140298261, 0.40478970255479996, 0.6285724506419813, 0.3375859775042723, 0.5445055859478284, 0.5142587515092568, 0.4306523363271993, 0.648827328229703, 0.48230222232683445, 0.7322740251606258, 0.5388849376432872, 0.5844737696536844, 0.5009527560029866, 0.4482975006712917, 0.44896646683356256, 0.7234402651160804, 0.4329898580206988, 0.437066538359944, 0.8486487229941982, 0.7505562044966669, 0.5529763399496599, 0.5011639035280284, 0.6099622483800937, 0.5527866114183247, 0.4677852048490294, 0.4482795209561386, 0.47678437526981227, 0.45010338525923044, 0.600700188708306, 0.8526999654632781, 0.5717502622570488, 0.39319818162601905, 0.4874789019645541, 0.4603747635813158, 0.36286065655455074, 0.7497678454106809, 0.49831689382673555, 0.36800229938505574, 0.3264946290469436, 0.3264102037283643, 0.3234426630717035, 0.340309461186155, 0.3472850010362268, 0.33075453294617013, 0.5158573902581147, 0.2976217067350152, 0.2948845212695621, 0.32261368744437596, 0.40500786255257387, 0.2831616445021078, 0.3252750252852529, 0.6466628886052258, 0.3785262858909661, 0.2872299924725648, 0.30516779049878856, 0.3951766458720568, 0.43312365888433046, 0.49891040670438797, 1.2981612671901706, 0.8501136795584353, 0.4472014552201238, 0.6458427642782627, 0.3947820195797786, 0.5907436329112008, 0.9260437171821159, 0.6089008573661406, 0.47908004624683165, 1.0804512749036574, 0.7512601460197643, 0.6566292390039264, 0.7907469416540148, 0.49212347988243094, 0.492685295300581, 0.629055837086467, 0.5436756124263862, 0.5182773141452292, 0.682794151791034, 0.46907304020011586, 0.4512059049686803, 0.5690108638340955, 0.3583578715071976, 0.3599249682568404, 0.3148098556724972, 0.285804147881143, 0.40792078193045683, 1.0760088099274039, 0.30946110750427397, 0.27351982197663083, 0.3008806854525079, 0.3263241556161984, 0.516273158674263, 0.26159813828411, 0.26159813828411, 0.3244878578928725, 0.3626602776592322, 0.24999256516441518, 0.31344463108749776, 0.3374982202700799, 0.23616054450339083, 0.32594116012508084, 0.25160760706962587, 0.25552672798535475, 0.22894630632659094, 0.25159741601195834, 0.32550897087784997, 0.22292596078692303, 0.24731516834330858, 0.29796975116649554, 0.2163072200555286, 0.24018151030613188, 0.3368824644195693, 0.7140318155864023, 0.5989866991589183, 0.45009262702582414, 0.5794693208817712, 0.7368177002158744, 0.5371233680540669, 0.4213124328974889, 0.396968001340967, 0.34770122683496996, 0.3191999748512549, 0.4203916270704532, 0.5100527749973444, 0.4453177330323812, 0.38590445921158434, 0.5752207820270566, 0.4046914722697113, 0.5345354200604372, 0.47397970750041885, 0.40904812556337583, 0.42042705911463635, 0.36356820751760555, 0.38378440795795327, 0.40516050507962564, 0.34544112132687016, 0.38359634409756127, 0.3574785528736004, 0.36193887086844967, 0.33121181219631324, 0.45449917916963806, 0.27570531953067695, 0.3914407581975531, 0.3689667492842851, 0.29463975481838817, 0.24445629220736423, 0.3257313436157876, 0.31245548130785256, 0.3218431470826016, 0.2321494591387106, 0.3245941319150747, 0.2899724787454066, 0.21790220335792998, 0.31766626432784534, 0.3803767134832325, 0.21322790958720556, 0.2526455683419192, 0.46862547324906273, 0.24564605910811152, 0.25264247863345596, 0.2300271639073426, 0.20761607616522146, 0.4849873513870477, 0.2027027061358483, 0.23633928651851582, 0.2540395827801332, 0.5021835149070852, 0.38421957805020324, 0.2711437374187024, 0.33472450781374685, 0.2645759053008951, 0.38899978714964023, 0.3944232263618939, 0.2909737998792407, 0.4476314531872763, 0.3121473985329276, 0.564651707482918, 0.32511928390956846, 0.2962883428152911, 0.3322325361596385, 0.3475655494796051, 0.38607187523002506, 0.5359348513554031, 0.3768565730413664, 0.39662350253442163, 0.44316024446910457, 0.4480439285976576, 0.38656557487265997, 0.3380376257333254, 0.3542135605495879, 0.3277796391984953, 0.32833816410572864, 0.5648850713147583, 0.38743453806838735, 0.3422372100980406, 0.29208488193415144, 0.33710587706499395, 0.3023068630080098, 0.34720584649747305, 0.2665136216480557, 0.31800700428178647, 0.30362206903381717, 0.3426430248347638, 0.24083076101480758, 0.23943703049471238, 0.23296455731679816, 0.22449716271869408, 0.223590569703136, 0.27956315157485134, 0.27583773823753377, 0.21916318605285287, 0.23293119892241895, 0.2996618854744057, 0.2561019187782793, 0.2376012841386841, 0.2548034799201459, 0.2066928014701019, 0.24957235043513268, 0.3707662167468675, 0.2445165616564239, 0.19964985061599802, 0.23061038341441534, 1.0755685066425724, 0.35386518852084614, 0.488574975635632, 1.0855184850841346, 0.46289877246249567, 0.3100678986395686, 0.37571203783196355, 0.41158345426696663, 0.3621609049813874, 0.32652169794268837, 0.2949739336182161, 0.34183653638541467, 0.46143641632764987, 0.28011426933987343, 0.371868183102733, 0.4322890589230362, 0.31913008326051956, 0.3023852867404718, 0.28987317013498004, 0.3005970726211195, 0.30334190320640325, 0.2897760870698737, 0.2830550602700662, 0.2749138978067069, 0.25516780124628163, 0.25076177079373624, 0.3110170725600183, 0.2812723734177489, 0.2576354172006873, 0.2288670217731898, 0.2271320504323561, 0.2266203767271613, 0.24279221097186843, 0.21295490158471664, 0.26864560802728615, 0.20939866218261935, 0.2632183647037811, 0.2239420555387054, 0.29724510192959386, 0.23261193888191115, 0.2031350975450802, 0.2800852042162564, 0.31337309132234353, 0.21951772361487387, 0.2247519548080246, 0.34320625606877675, 0.17573292187778275, 0.2843913612775095, 0.21506368786369748, 0.20895546908783624, 0.4207580964786258, 0.25461584145518756, 0.3279096931114234, 0.35221842622808125, 0.3907906140753118, 0.4760361030589559, 0.7496297440843553, 0.29819975763604223, 0.3024434585159633, 0.3232214156139563, 0.3551426376616215, 0.3447401233629939, 0.2787454482668879, 0.28898890660938586, 0.6061096115566353, 0.306817272731607, 0.3423119410976645, 0.3082682589964367, 0.3457719801833645, 0.28896027821997505, 0.46628507322181445, 0.3641994217796792, 0.4354336933836123, 0.30174376445317397, 0.48882064534184505, 0.2748209203633507, 0.39934067060016337, 0.3706293474661334, 0.42221894636815266, 0.27548060171232097, 0.25559390587582526, 0.3263714299296452, 0.8061313394448801, 0.3625104020330201, 0.24569824336031673, 0.7464862190664658, 0.2982702790534278, 0.28584438482949637, 0.35389150370537714, 0.1975216315792778, 0.19405589173985524, 0.19393038369031398, 0.23383562129305635, 0.282828172201515, 0.26052843490096106, 0.18785112799197456, 0.2033042086474445, 0.1827109200289184, 0.19524867916457164, 0.2165512456017602, 0.4126903536631941, 0.39705406808568416, 0.5114685145997371, 0.3190265202604794, 0.7745111956316436, 0.4048003377323784, 0.3209320665764521, 0.41404303794787334, 0.5636129411567118, 0.472543900806974, 0.38134086971913944, 0.5026842847817579, 0.3846328510814282, 0.386622286432534, 0.31822174831769423, 0.3475998069034274, 0.4841618396591869, 0.35774808392332197, 0.34674410476143924, 0.32069627454016525, 0.4697198486222813, 0.41735285997592514, 0.32962783195908735, 0.2834426254155117, 0.27113390346910504, 0.3295964778736402, 0.3540306057213531, 0.23823665176239656, 0.2735984994832344, 0.22206325131454369, 0.1980967217115694, 0.2509637783031384, 0.42318142088369104, 0.27242247080506565, 0.21856256916308503, 0.22205422355627907, 0.1917165001112114, 0.21555490592743895, 0.18201146757871672, 0.21528281121309106, 0.1903989009407627, 0.2015297884244857, 0.48677232403954285, 0.17724935403209302, 0.2266051149570579, 0.22632948492374985, 0.19028083410494107, 0.2453435882408779, 0.1674077322009152, 0.17198777093277406, 0.22818487334152565, 0.17724374016748543, 0.2306983452286302, 0.43591484096717303, 0.2929022810672628, 0.2869495109720097, 0.4091680075846879, 0.4318540894642211, 0.4891982589536283, 0.5549103483894812, 0.30603615399317946, 0.32340528437079735, 0.4667195439231861, 0.3633029178816012, 0.2631120611376654, 0.26109646192299535, 0.25170394813263275, 0.28256031870030157, 0.2954834595087615, 0.4393385310355239, 0.3597831030832097, 0.2722370320762589, 0.3516483219168644, 0.2736193681702957, 0.3013949801938057, 0.3327750972480423, 0.27370809142198277, 0.2294643356662937, 0.22318628052113276, 0.26586250220349816, 0.26112927703652644, 0.1817946298663747, 0.1938150674733558, 0.17903870604505784, 0.1937966307861627, 0.24541140296336966, 0.25339748725221795, 0.1870440399509267, 0.16416806064190975, 0.17488322697610828, 0.21503908598571464, 0.15783857448192715, 0.1825249469675477, 0.20737898763234694, 0.2326242176633306, 0.3033937355487288, 0.1745962865325369, 0.18407576390291594, 0.1682281594001712, 0.1895072325917488, 0.16714011651786848, 0.15295929028461966, 0.14791146869310362, 0.17290175051008544, 0.17533527792485415, 0.272055214630177, 0.2803100756173535, 0.19306812404984597, 0.3353875680878066, 0.2705296288483933, 0.2388220637627383, 0.19305286518263276, 0.20681513925793932, 0.19984120770242383, 0.1983669970866102, 0.2043482024337534, 0.20867555923262057, 0.24167892429776783, 0.19063022341580685, 0.19283055707414942, 0.190386117177751], \"Term\": [\"just\", \"let\", \"support\", \"thank\", \"carbon\", \"information\", \"important\", \"emissions\", \"moment\", \"organisations\", \"work\", \"issue\", \"submission\", \"change\", \"world\", \"new\", \"huge\", \"don\", \"zero\", \"address\", \"seriously\", \"environment\", \"public\", \"zealand\", \"document\", \"make\", \"website\", \"reporting\", \"good\", \"government\", \"carbon\", \"economy\", \"emissions\", \"commission\", \"net\", \"energy\", \"targets\", \"strong\", \"waste\", \"electric\", \"needs\", \"transport\", \"impact\", \"power\", \"zero\", \"agriculture\", \"gas\", \"target\", \"economic\", \"set\", \"money\", \"methane\", \"clear\", \"international\", \"transition\", \"environmental\", \"cars\", \"areas\", \"act\", \"term\", \"future\", \"make\", \"new\", \"change\", \"climate\", \"need\", \"world\", \"global\", \"reduce\", \"people\", \"government\", \"time\", \"zealand\", \"like\", \"farming\", \"tax\", \"country\", \"just\", \"temperatures\", \"permission\", \"goods\", \"talk\", \"started\", \"value\", \"degree\", \"demonstrated\", \"related\", \"north\", \"outlined\", \"protecting\", \"considerations\", \"thirty\", \"average\", \"hemp\", \"submitted\", \"annual\", \"secure\", \"accessible\", \"riparian\", \"mihi\", \"nga\", \"metres\", \"grants\", \"aggressively\", \"moral\", \"opening\", \"leadership\", \"increasing\", \"critical\", \"mess\", \"sustainable\", \"producing\", \"little\", \"happy\", \"ways\", \"key\", \"credits\", \"address\", \"discussion\", \"document\", \"atmosphere\", \"commitment\", \"transparency\", \"let\", \"cycle\", \"law\", \"zealand\", \"new\", \"support\", \"submission\", \"climate\", \"need\", \"focus\", \"clean\", \"time\", \"long\", \"consulting\", \"farmers\", \"participate\", \"regulatory\", \"encouraged\", \"entirely\", \"active\", \"costs\", \"decision\", \"committed\", \"timescale\", \"sadly\", \"expense\", \"exclude\", \"box\", \"continued\", \"fine\", \"unbiased\", \"downfall\", \"cases\", \"referendum\", \"tracks\", \"places\", \"ministry\", \"mandate\", \"stay\", \"appreciate\", \"meat\", \"focused\", \"changed\", \"thank\", \"website\", \"acting\", \"taking\", \"vehicle\", \"effective\", \"issue\", \"opportunity\", \"thanks\", \"important\", \"let\", \"focus\", \"long\", \"goal\", \"animal\", \"environment\", \"address\", \"does\", \"government\", \"party\", \"action\", \"pressure\", \"bringing\", \"bolder\", \"recognition\", \"accountable\", \"held\", \"information\", \"sounds\", \"expert\", \"india\", \"soils\", \"sharing\", \"behave\", \"responsibly\", \"allows\", \"flawed\", \"humus\", \"despite\", \"effort\", \"prepare\", \"importance\", \"imagine\", \"seek\", \"players\", \"magnitude\", \"supplementary\", \"youtube\", \"sheep\", \"truth\", \"websites\", \"finding\", \"seeing\", \"seriously\", \"human\", \"grandchildren\", \"decisions\", \"huge\", \"read\", \"species\", \"precious\", \"crucial\", \"organic\", \"opportunity\", \"issue\", \"good\", \"taking\", \"need\", \"submission\", \"climate\", \"government\", \"environment\", \"action\", \"published\", \"far\", \"change\", \"thank\", \"timeframes\", \"occurrence\", \"taxed\", \"wellington\", \"dont\", \"factor\", \"beautiful\", \"feedback\", \"phenomenon\", \"projects\", \"stakeholders\", \"europe\", \"section\", \"mini\", \"usual\", \"running\", \"representation\", \"telling\", \"extremely\", \"labour\", \"worth\", \"outcomes\", \"ecological\", \"exploring\", \"deeply\", \"minor\", \"publish\", \"agri\", \"region\", \"months\", \"ministry\", \"submissions\", \"dangerous\", \"evs\", \"meaningful\", \"proposal\", \"best\", \"million\", \"national\", \"implement\", \"thank\", \"ice\", \"travel\", \"mfe\", \"summary\", \"sea\", \"important\", \"published\", \"natural\", \"work\", \"change\", \"climate\", \"problem\", \"government\", \"effective\", \"zealand\", \"dump\", \"regard\", \"vast\", \"genuine\", \"final\", \"enacted\", \"passing\", \"cheapest\", \"http\", \"identified\", \"provided\", \"squandering\", \"core\", \"exemptions\", \"welfare\", \"smoke\", \"courage\", \"book\", \"cease\", \"expenditure\", \"prime\", \"fleet\", \"aren\", \"fixing\", \"accelerating\", \"ruining\", \"expensive\", \"paper\", \"represented\", \"limiting\", \"let\", \"com\", \"clean\", \"just\", \"leader\", \"success\", \"pacific\", \"govt\", \"benefit\", \"proposal\", \"car\", \"discussion\", \"don\", \"cause\", \"address\", \"world\", \"document\", \"national\", \"email\", \"good\", \"thats\", \"testing\", \"ready\", \"training\", \"forage\", \"cyclical\", \"batteries\", \"happened\", \"enforcement\", \"inappropriate\", \"pastoral\", \"purposes\", \"incremental\", \"hanging\", \"holistic\", \"micro\", \"explain\", \"hotter\", \"contribution\", \"engage\", \"sincerely\", \"additional\", \"immediately\", \"biodiversity\", \"nzers\", \"contact\", \"fibre\", \"notes\", \"ruminant\", \"contributor\", \"direction\", \"monitoring\", \"attached\", \"massive\", \"requires\", \"warming\", \"support\", \"www\", \"publicly\", \"environmentally\", \"animal\", \"making\", \"strategy\", \"post\", \"change\", \"ambitious\", \"don\", \"significant\", \"global\", \"really\", \"mandated\", \"equivalence\", \"serve\", \"supplied\", \"requirements\", \"undertaken\", \"protect\", \"relief\", \"specified\", \"understanding\", \"violates\", \"words\", \"moment\", \"principle\", \"distinguish\", \"organisations\", \"bin\", \"ipcc\", \"easy\", \"practically\", \"bear\", \"sought\", \"separate\", \"proud\", \"assessment\", \"acidification\", \"waiting\", \"wisdom\", \"ends\", \"determine\", \"consent\", \"transparency\", \"risk\", \"extremely\", \"submission\", \"improve\", \"control\", \"management\", \"information\", \"reporting\", \"assist\", \"public\", \"website\", \"warming\", \"personal\", \"effective\", \"government\", \"way\", \"zero\", \"leadership\", \"adapting\", \"scrap\", \"promising\", \"views\", \"trust\", \"behaviour\", \"mandatory\", \"ordinary\", \"compulsory\", \"viability\", \"watching\", \"joke\", \"prepared\", \"open\", \"initiatives\", \"commerce\", \"incredibly\", \"stone\", \"reading\", \"worlds\", \"bit\", \"creation\", \"hope\", \"blind\", \"image\", \"piece\", \"offers\", \"perspective\", \"correctly\", \"cagw\", \"offset\", \"enter\", \"excited\", \"data\", \"initiative\", \"involved\", \"document\", \"really\", \"thank\", \"work\", \"reductions\", \"require\", \"support\", \"good\", \"old\", \"called\", \"moral\", \"read\", \"opportunity\", \"climate\", \"make\", \"ambitious\", \"change\", \"making\", \"important\", \"second\", \"burden\", \"excessively\", \"elected\", \"paid\", \"exciting\", \"sale\", \"losing\", \"generous\", \"decreased\", \"crown\", \"proposals\", \"stated\", \"carry\", \"leads\", \"collaborative\", \"boom\", \"saving\", \"accept\", \"gain\", \"late\", \"transportation\", \"rivers\", \"weight\", \"luck\", \"conservation\", \"banning\", \"constructive\", \"head\", \"imported\", \"kids\", \"shift\", \"add\", \"yes\", \"law\", \"example\", \"useful\", \"integrated\", \"polluting\", \"nation\", \"working\", \"advice\", \"future\", \"leaders\", \"commercial\", \"generations\"], \"Total\": [5.0, 3.0, 5.0, 3.0, 13.0, 2.0, 6.0, 12.0, 2.0, 2.0, 5.0, 4.0, 3.0, 15.0, 7.0, 10.0, 2.0, 4.0, 9.0, 2.0, 2.0, 4.0, 4.0, 7.0, 2.0, 7.0, 2.0, 2.0, 3.0, 10.0, 13.742960466826053, 5.366071079314724, 12.861510968035967, 4.723948361029875, 4.3711605684772135, 4.335716761036834, 4.4919608953526176, 3.983856574474038, 3.9590833598371407, 3.9752463358790253, 7.591896434702506, 3.7089027125902945, 3.7056370088987807, 3.94689570638806, 9.105670050875647, 4.446201933331668, 3.5595265399229743, 3.52988408741266, 4.355491587191636, 3.6164887347219765, 3.356177423184407, 3.311198207138685, 3.613247252827993, 3.2369507744922257, 3.1570219105496613, 3.1487122502137006, 3.363748724351699, 3.080527489145668, 5.601825693698598, 4.014779314203486, 7.745654836576411, 7.099015795110221, 10.564007525580312, 15.815645842242418, 15.992498212742381, 11.241541014704074, 7.179836760418031, 5.7376080239843406, 4.600469764126507, 6.617008057273356, 10.564374273275766, 6.905388701320771, 7.437043116653428, 5.438652980624214, 4.607032523001446, 4.499957415618852, 5.266361100589928, 5.989756341436249, 0.8751027258532265, 0.7942331598379769, 0.8301316524813335, 0.8937526688515626, 1.0261750315239058, 0.755312333967046, 0.8955263499924253, 0.7216077498494933, 1.0418078480649982, 0.7191125695017894, 0.7186540998246554, 0.7140687728787605, 0.712313047518957, 0.7102567345851191, 1.0422854858958093, 1.0634799539778794, 0.7626669431455289, 0.6902571645639763, 0.6880846577231966, 0.6834736555541734, 0.7294526103996868, 0.6780849150699404, 0.6780849150699404, 0.6777101877427997, 0.6764448953756245, 0.750176846964972, 1.1315825950842773, 0.668439975329479, 2.0148797541095957, 1.2216871567801106, 1.1267952209429335, 1.0447376153899217, 1.8472811535886275, 0.8531620749486598, 1.5722333286343249, 1.558490469518461, 1.215043097828842, 2.2256758533132315, 1.44550828986295, 2.809977029085365, 1.805756352863576, 2.1230003807322473, 1.6361810968988117, 1.3807742302166823, 1.3899916145803721, 3.6501279020053423, 1.3463577346863878, 1.4223236542739432, 7.437043116653428, 10.564007525580312, 5.8140452783228405, 3.2687964476379903, 15.992498212742381, 11.241541014704074, 2.805269164318009, 1.9436724368464355, 6.905388701320771, 4.088415021864436, 0.9976864052688036, 1.576175916962688, 1.1165756854193614, 0.790199272333006, 1.0122694345786962, 0.9619634284293517, 0.7598715003875438, 1.5769761840383392, 1.0543947576899213, 0.8097753307371763, 0.7234750238900891, 0.7234089137242793, 0.7204362577333597, 0.7639124456322914, 0.7951248607916361, 0.7590064069757589, 1.194126173033845, 0.6946038034060485, 0.6918960567668352, 0.7588940411633495, 0.9638871699254876, 0.6801463577581706, 0.7916363866459566, 1.580335252092467, 0.9467325896635694, 0.7206417676168677, 0.7698304077950829, 1.0006532903879608, 1.0994068380444837, 1.2822659416422106, 3.374890631479922, 2.2134652559552577, 1.2308294158823472, 1.9981884109606782, 1.0535738219936575, 1.9262170441227866, 4.212937237983887, 2.168969165702698, 1.4670714123258846, 6.428855021520048, 3.6501279020053423, 2.805269164318009, 4.088415021864436, 1.6679920848633167, 1.7744266913395759, 4.4438814366922355, 2.809977029085365, 2.746284411003526, 10.564374273275766, 1.9631036282622105, 5.413548049805808, 1.0190108390092358, 0.7590764823906303, 0.799094716927699, 0.7155676489262515, 0.6864840104002929, 0.9858187472095153, 2.604506872171661, 0.7621477404915011, 0.6742326831604795, 0.7428419901507303, 0.8197830444758135, 1.3033023778347617, 0.6622716354382707, 0.6622716354382707, 0.8218414764303819, 0.9211563083207667, 0.6506779168444061, 0.8189461452681122, 0.8878514643011216, 0.636885800817928, 0.882763059013981, 0.6867110808762389, 0.7004028279243579, 0.6296571646978111, 0.6982794832466207, 0.906073826054354, 0.6236047688659542, 0.7001125036454755, 0.849837240621746, 0.616986948435035, 0.6852367159409419, 0.9647089276694137, 2.105622451415655, 1.7799979153578536, 1.314821094906375, 1.7999492021977397, 2.3981511688868395, 1.759577653565547, 1.3211364960989995, 1.2736707456824188, 1.0955971707987837, 1.0116533803661185, 2.168969165702698, 4.212937237983887, 3.0424768829770215, 1.9981884109606782, 11.241541014704074, 3.2687964476379903, 15.992498212742381, 10.564374273275766, 4.4438814366922355, 5.413548049805808, 2.0330399917113264, 3.236093983390205, 15.815645842242418, 3.374890631479922, 0.8118348024161691, 0.7591493483819344, 0.848254258309831, 0.8072852754082749, 1.1144546313934929, 0.6774013298298063, 0.9813433732772742, 0.9388209126338213, 0.7644066413247996, 0.6461970072221612, 0.8672910960902136, 0.8367741869161752, 0.8759883175183807, 0.6338293643026293, 0.8877598266461378, 0.8162920792927327, 0.6195889045869065, 0.9131913898800765, 1.096083335836298, 0.6149083441400096, 0.7294149160757829, 1.3532339393928015, 0.7150980041734302, 0.7366687127689476, 0.6728549522028076, 0.6093423562737298, 1.4371927006657859, 0.6045251341493606, 0.7089449286476485, 0.7621393764311063, 1.580335252092467, 1.2467038184960157, 0.8365626152035681, 1.0855023196444984, 0.8156112270518593, 1.4021046900948666, 1.4739780749014781, 0.9536469614361909, 2.007824369186496, 1.099838509685629, 3.374890631479922, 1.2157592653608718, 1.0162248533661375, 1.3271485332868076, 1.4944122002167146, 2.0895510696618613, 6.428855021520048, 2.0330399917113264, 2.646228792947542, 5.209894566535253, 15.815645842242418, 15.992498212742381, 2.839080015495712, 10.564374273275766, 1.9262170441227866, 7.437043116653428, 0.9682969879153858, 0.7910290295642638, 0.7459407623116346, 0.6955003465024071, 0.8236732383575065, 0.7509254278860257, 0.8699207289664596, 0.6714528227267882, 0.8161154429139199, 0.7920472591610422, 0.8953356661362691, 0.6444584980749716, 0.6429152420998052, 0.6363780612456463, 0.6279807519717602, 0.6270362177111152, 0.7846205750051884, 0.7762834467146562, 0.6225689150102212, 0.6688575216388964, 0.8748224835822614, 0.7487672337925455, 0.697863407952988, 0.7508328044502114, 0.6102387611807656, 0.7397527838064749, 1.1004388373963399, 0.7328678607304984, 0.6030991651909976, 0.6990234385182456, 3.6501279020053423, 1.1773189415259422, 1.9436724368464355, 5.989756341436249, 1.8558311785791062, 1.0770953507453935, 1.5206973556548378, 1.7812785758961722, 1.772308358406304, 1.4021046900948666, 1.171412145715609, 1.805756352863576, 4.6044530192586794, 1.0211118905382481, 2.809977029085365, 7.179836760418031, 2.1230003807322473, 2.007824369186496, 1.4420293654021517, 3.0424768829770215, 0.7065001425625912, 0.6930626619913509, 0.6862107245048918, 0.67807594292987, 0.6583761868837926, 0.6539397757893657, 0.8295426981435976, 0.7710293031564429, 0.7101334900514736, 0.6320286222906003, 0.6303144346973711, 0.6300578858284477, 0.6868303909466286, 0.6161623557619892, 0.7797193875346041, 0.6125922840617037, 0.7808222471001665, 0.6672311092675524, 0.9178951312369799, 0.7286270445010619, 0.6477419066254779, 0.9021448298414754, 1.0120011204884634, 0.7175268710007725, 0.7348443625990227, 1.122926119775592, 0.5789449872699077, 0.9414137847504476, 0.7141087842059717, 0.6983569042574087, 1.4497137157225501, 0.8663001560017923, 1.1531363166747057, 1.2524253278235236, 1.52870245597396, 2.288786137083385, 5.8140452783228405, 1.1621014033109769, 1.2089657917841414, 1.3794890824204917, 1.7744266913395759, 1.9362221102509147, 1.1420731490341398, 1.307022770842563, 15.815645842242418, 1.686308848691237, 4.6044530192586794, 2.316267350213739, 5.7376080239843406, 2.6215535976267033, 0.8708895440610206, 0.7688000436862431, 0.9930111523487216, 0.7345880207291151, 1.2062340459354823, 0.6794758089415575, 1.0035181630245384, 0.9452490296878737, 1.0777692805878385, 0.7073573454490804, 0.660194528096145, 0.853838016231981, 2.114306434283215, 1.002857437372715, 0.6945131280710036, 2.1416953868053294, 0.8624813296803517, 0.8631235796207904, 1.0729218148938433, 0.6022581705176285, 0.5986893879133017, 0.5985532206326724, 0.7280240914425123, 0.8816104260251747, 0.8139210378553572, 0.592458051611569, 0.6528988238264313, 0.5873402326331625, 0.6366781650709579, 0.7067266698158087, 1.3477775828559921, 1.3899916145803721, 1.8434114967262707, 1.096083335836298, 3.2687964476379903, 1.5353536149469622, 1.1519763270001837, 1.6762629886507057, 2.604506872171661, 2.326272333602359, 1.6659774697649814, 4.40964057546778, 2.2134652559552577, 2.288786137083385, 1.275558166046129, 1.9262170441227866, 10.564374273275766, 4.416391759556259, 9.105670050875647, 2.0148797541095957, 1.0143469098313216, 0.9220404649437592, 0.7481008493518323, 0.688522819788561, 0.7449494125317497, 0.9112978512274579, 1.0306652737739406, 0.697897838971679, 0.810172735956228, 0.6751261556849315, 0.603168411130847, 0.787001196934274, 1.3517733077686351, 0.8919914679811725, 0.7361291293403162, 0.7516585913038314, 0.6585626639369561, 0.7434149517249101, 0.6281996382253684, 0.744994450515717, 0.6608198247915873, 0.7027857628721573, 1.6976326015724128, 0.6231927741782094, 0.7977868315900536, 0.796959441396248, 0.6702573665149393, 0.8701229874302623, 0.5970125872411989, 0.6171729794702027, 0.8202036502304191, 0.6370421990034484, 0.8662709787104221, 1.865913328724068, 1.257319687929078, 1.2257282876253501, 2.1230003807322473, 2.6215535976267033, 3.374890631479922, 5.209894566535253, 1.8023776560297342, 2.07820719687889, 5.8140452783228405, 3.0424768829770215, 1.2646309137220377, 1.2416831124416357, 1.1315825950842773, 1.759577653565547, 2.168969165702698, 15.992498212742381, 7.099015795110221, 1.686308848691237, 15.815645842242418, 1.9362221102509147, 6.428855021520048, 0.8271513736527016, 0.715556811305113, 0.6376306384943211, 0.6329445704086343, 0.8059865215564813, 0.8042925876074507, 0.5899918808484552, 0.6302757555208189, 0.5872342630394201, 0.6359515862266221, 0.8098805598890495, 0.8582312452635148, 0.6472195686302459, 0.5723792201610975, 0.6113396505899766, 0.7610689168471094, 0.5660405127039465, 0.6585796858852959, 0.767502609132641, 0.864865935409903, 1.1317434788623209, 0.6647030272053526, 0.7259050192368572, 0.6671212432216247, 0.7545719242755018, 0.6715277235092434, 0.6153973146971394, 0.595328426644866, 0.6976424398529333, 0.7126348016273989, 1.1265287027153263, 1.2104352938868075, 0.8088330703216506, 1.8977931501589405, 1.4223236542739432, 1.2422000961677457, 0.8985338325995404, 1.097732062063841, 1.0562550170094178, 1.1369142688635767, 1.4783121075057717, 1.8943283691108064, 7.745654836576411, 1.0106626826472944, 1.5436977976459514, 2.8555785859009486], \"loglift\": [30.0, 29.0, 28.0, 27.0, 26.0, 25.0, 24.0, 23.0, 22.0, 21.0, 20.0, 19.0, 18.0, 17.0, 16.0, 15.0, 14.0, 13.0, 12.0, 11.0, 10.0, 9.0, 8.0, 7.0, 6.0, 5.0, 4.0, 3.0, 2.0, 1.0, 0.747, 0.7464, 0.7445, 0.7364, 0.729, 0.7275, 0.7261, 0.7205, 0.72, 0.7199, 0.7137, 0.7131, 0.713, 0.7112, 0.7109, 0.71, 0.7085, 0.7075, 0.7061, 0.7036, 0.7014, 0.6999, 0.6977, 0.6969, 0.6938, 0.6934, 0.6932, 0.6905, 0.6865, 0.6864, 0.6818, 0.6773, 0.6664, 0.6387, 0.6103, 0.622, 0.6412, 0.6578, 0.6761, 0.6401, 0.5213, 0.587, 0.5571, 0.6256, 0.6405, 0.6447, 0.529, 0.425, 1.8356, 1.8161, 1.8058, 1.7812, 1.7733, 1.7633, 1.7243, 1.7107, 1.7072, 1.7064, 1.7057, 1.6974, 1.6947, 1.6909, 1.6809, 1.6727, 1.6611, 1.6536, 1.6494, 1.6401, 1.6382, 1.6292, 1.6292, 1.6283, 1.6257, 1.6201, 1.6121, 1.6086, 1.6086, 1.6056, 1.5676, 1.5601, 1.4302, 1.5811, 1.4479, 1.3995, 1.471, 1.2756, 1.4106, 1.1635, 1.299, 1.2184, 1.3246, 1.3833, 1.3781, 0.8897, 1.3738, 1.3283, 0.3377, -0.1362, 0.1555, 0.633, -0.7582, -0.5042, 0.717, 1.0413, -0.1648, 0.3018, 2.012, 1.905, 1.8501, 1.8214, 1.7887, 1.7824, 1.7802, 1.7759, 1.7699, 1.7307, 1.7237, 1.7236, 1.7185, 1.7108, 1.691, 1.6887, 1.68, 1.6719, 1.6665, 1.664, 1.6523, 1.6431, 1.6299, 1.6258, 1.6026, 1.5995, 1.5941, 1.5903, 1.5879, 1.5754, 1.564, 1.5624, 1.5069, 1.3899, 1.5378, 1.3374, 1.0044, 1.249, 1.4002, 0.736, 0.9386, 1.0672, 0.8764, 1.2987, 1.238, 0.5643, 0.8768, 0.8519, -0.2197, 1.0879, 0.0346, 2.1412, 1.9733, 1.9263, 1.9028, 1.8476, 1.8415, 1.8399, 1.8226, 1.8217, 1.8201, 1.8027, 1.7979, 1.795, 1.795, 1.7946, 1.7917, 1.7673, 1.7635, 1.7567, 1.7318, 1.7276, 1.7199, 1.7156, 1.7122, 1.7031, 1.7002, 1.6952, 1.6833, 1.6758, 1.6757, 1.6755, 1.6718, 1.6425, 1.6348, 1.6519, 1.5905, 1.5438, 1.5373, 1.581, 1.5581, 1.5762, 1.5704, 1.0831, 0.6125, 0.8023, 1.0795, -0.2487, 0.6348, -0.6746, -0.3802, 0.3384, 0.1685, 1.0026, 0.5919, -0.9406, 0.4446, 2.017, 2.0136, 1.915, 1.8758, 1.8698, 1.8678, 1.8476, 1.8328, 1.8134, 1.7947, 1.7874, 1.7816, 1.7654, 1.7623, 1.7606, 1.7317, 1.7217, 1.7108, 1.7084, 1.7076, 1.7065, 1.7063, 1.6982, 1.6966, 1.6934, 1.69, 1.6804, 1.674, 1.6682, 1.6681, 1.6203, 1.5897, 1.6401, 1.5902, 1.6409, 1.4846, 1.4484, 1.5797, 1.2659, 1.5073, 0.9788, 1.4478, 1.5342, 1.3818, 1.3082, 1.078, 0.2822, 1.0813, 0.8688, 0.3023, -0.7971, -0.9558, 0.6387, -0.6286, 0.9958, -0.3535, 2.3132, 2.1383, 2.0729, 1.9845, 1.9587, 1.9422, 1.9336, 1.9281, 1.9096, 1.8932, 1.8916, 1.8678, 1.8643, 1.8472, 1.8234, 1.8209, 1.8201, 1.8174, 1.808, 1.7972, 1.7807, 1.7792, 1.7746, 1.7714, 1.7695, 1.7655, 1.7642, 1.7544, 1.7466, 1.7431, 1.6302, 1.65, 1.4712, 1.1441, 1.4635, 1.6068, 1.454, 1.387, 1.2641, 1.3948, 1.473, 1.1877, 0.5516, 1.5586, 0.8297, 0.0421, 0.9571, 0.959, 1.2477, 0.5374, 2.0077, 1.9812, 1.9677, 1.9504, 1.9053, 1.8947, 1.8722, 1.8448, 1.8393, 1.8374, 1.8325, 1.8307, 1.8133, 1.7908, 1.7877, 1.7797, 1.7658, 1.7615, 1.7257, 1.7114, 1.6936, 1.6835, 1.6809, 1.6688, 1.6685, 1.6678, 1.661, 1.6562, 1.6531, 1.6466, 1.6161, 1.6287, 1.5957, 1.5846, 1.4892, 1.2829, 0.8047, 1.493, 1.4676, 1.4021, 1.2445, 1.1275, 1.4429, 1.3441, -0.4085, 1.1492, 0.2541, 0.8365, 0.0442, 0.648, 2.2827, 2.1603, 2.083, 2.0177, 2.0041, 2.0022, 1.986, 1.9712, 1.9703, 1.9644, 1.9585, 1.9457, 1.9432, 1.8899, 1.8683, 1.8534, 1.8456, 1.8023, 1.7983, 1.7926, 1.7808, 1.7804, 1.7717, 1.7705, 1.7683, 1.7588, 1.7407, 1.7397, 1.7254, 1.7246, 1.7239, 1.6544, 1.6253, 1.6732, 1.4675, 1.5743, 1.6294, 1.5091, 1.3768, 1.3135, 1.4329, 0.7358, 1.1574, 1.1291, 1.519, 1.1951, -0.1754, 0.3942, -0.3607, 1.0696, 2.1594, 2.1366, 2.1097, 2.0417, 1.9186, 1.9123, 1.8607, 1.8545, 1.8437, 1.8173, 1.8158, 1.7863, 1.7679, 1.7432, 1.7149, 1.7099, 1.6952, 1.6912, 1.6905, 1.6878, 1.6849, 1.6801, 1.6801, 1.672, 1.6706, 1.6705, 1.6701, 1.6633, 1.6578, 1.6515, 1.6499, 1.65, 1.6062, 1.4752, 1.4724, 1.4773, 1.2828, 1.1258, 0.9979, 0.6898, 1.1561, 1.0689, 0.407, 0.8041, 1.3593, 1.3699, 1.4261, 1.1003, 0.9359, -0.6653, -0.0529, 1.1056, -0.8769, 0.9725, -0.1309, 2.2019, 2.1514, 2.0904, 2.07, 2.0033, 1.9874, 1.9351, 1.9331, 1.9246, 1.9241, 1.9184, 1.8925, 1.871, 1.8635, 1.8608, 1.8485, 1.8353, 1.8292, 1.8038, 1.7992, 1.7959, 1.7755, 1.7403, 1.7347, 1.7307, 1.7217, 1.7203, 1.7199, 1.7174, 1.7101, 1.6915, 1.6495, 1.6798, 1.3792, 1.4527, 1.4635, 1.5746, 1.4432, 1.4474, 1.3664, 1.1335, 0.9065, -0.3549, 1.4444, 1.0323, 0.4044], \"logprob\": [30.0, 29.0, 28.0, 27.0, 26.0, 25.0, 24.0, 23.0, 22.0, 21.0, 20.0, 19.0, 18.0, 17.0, 16.0, 15.0, 14.0, 13.0, 12.0, 11.0, 10.0, 9.0, 8.0, 7.0, 6.0, 5.0, 4.0, 3.0, 2.0, 1.0, -4.5082, -5.4492, -4.5769, -5.5867, -5.6716, -5.6813, -5.6473, -5.773, -5.7796, -5.7757, -5.1349, -5.8518, -5.8528, -5.7915, -4.9559, -5.6736, -5.8976, -5.9069, -5.6981, -5.8866, -5.9634, -5.9785, -5.8934, -6.0042, -6.0323, -6.0353, -5.9694, -6.0601, -5.4661, -5.7993, -5.1468, -5.2384, -4.8518, -4.476, -4.4932, -4.8341, -5.2632, -5.4709, -5.6735, -5.346, -4.9969, -5.3563, -5.3121, -5.5566, -5.7076, -5.7269, -5.6853, -5.6607, -6.1735, -6.29, -6.256, -6.2068, -6.0766, -6.393, -6.2617, -6.4913, -6.1275, -6.4991, -6.5004, -6.5151, -6.5202, -6.5269, -6.1534, -6.1414, -6.4855, -6.5928, -6.6002, -6.6162, -6.553, -6.635, -6.635, -6.6364, -6.6409, -6.5431, -6.14, -6.6699, -5.5666, -6.0698, -6.1887, -6.2718, -5.8318, -6.4534, -5.9753, -6.0325, -6.2099, -5.8, -6.0966, -5.6791, -5.9857, -5.9045, -6.0587, -6.1697, -6.1683, -5.6912, -6.2045, -6.1951, -5.5316, -5.6544, -5.9599, -6.0583, -5.8618, -5.9602, -6.1272, -6.1698, -6.1081, -6.1657, -5.866, -5.5157, -5.9154, -6.2898, -6.0748, -6.132, -6.3701, -5.6443, -6.0528, -6.356, -6.4757, -6.4759, -6.485, -6.4342, -6.4139, -6.4627, -6.0182, -6.5682, -6.5775, -6.4876, -6.2602, -6.6181, -6.4794, -5.7922, -6.3278, -6.6038, -6.5432, -6.2847, -6.193, -6.0516, -5.0954, -5.5187, -6.1611, -5.7935, -6.2857, -5.8827, -5.4331, -5.8524, -6.0922, -5.2789, -5.6423, -5.7769, -5.5911, -6.0653, -6.0642, -5.8198, -5.9657, -6.0136, -5.7379, -6.1133, -6.1521, -5.7156, -6.178, -6.1737, -6.3076, -6.4042, -6.0485, -5.0785, -6.3247, -6.4482, -6.3528, -6.2717, -5.8129, -6.4927, -6.4927, -6.2773, -6.1661, -6.5381, -6.3119, -6.238, -6.595, -6.2728, -6.5317, -6.5162, -6.6261, -6.5317, -6.2742, -6.6527, -6.5489, -6.3626, -6.6828, -6.5782, -6.2398, -5.4886, -5.6643, -5.9501, -5.6974, -5.4572, -5.7733, -6.0162, -6.0757, -6.2082, -6.2937, -6.0184, -5.825, -5.9608, -6.104, -5.7048, -6.0564, -5.7781, -5.8984, -6.0457, -6.0183, -6.1636, -6.1095, -6.0553, -6.2147, -6.0671, -6.1376, -6.1252, -6.214, -5.8975, -6.3974, -6.0469, -6.106, -6.331, -6.5177, -6.2306, -6.2723, -6.2427, -6.5693, -6.2341, -6.3469, -6.6327, -6.2557, -6.0756, -6.6544, -6.4847, -5.8669, -6.5128, -6.4847, -6.5785, -6.681, -5.8326, -6.705, -6.5514, -6.4792, -5.7977, -6.0655, -6.4141, -6.2034, -6.4386, -6.0531, -6.0393, -6.3435, -5.9127, -6.2732, -5.6805, -6.2325, -6.3254, -6.2109, -6.1658, -6.0607, -5.7327, -6.0849, -6.0337, -5.9228, -5.9118, -6.0594, -6.1936, -6.1468, -6.2244, -6.2227, -5.5948, -5.9718, -6.0959, -6.2543, -6.111, -6.2199, -6.0815, -6.3459, -6.1693, -6.2156, -6.0947, -6.4473, -6.4531, -6.4805, -6.5175, -6.5216, -6.2981, -6.3116, -6.5416, -6.4806, -6.2287, -6.3858, -6.4608, -6.3909, -6.6001, -6.4116, -6.0158, -6.4321, -6.6348, -6.4906, -4.9508, -6.0625, -5.7399, -4.9416, -5.7939, -6.1946, -6.0025, -5.9114, -6.0393, -6.1429, -6.2445, -6.097, -5.797, -6.2962, -6.0128, -5.8623, -6.1658, -6.2197, -6.2619, -6.2256, -6.2154, -6.2611, -6.2846, -6.3138, -6.3883, -6.4057, -6.1904, -6.2909, -6.3787, -6.4971, -6.5047, -6.507, -6.438, -6.5692, -6.3369, -6.586, -6.3573, -6.5189, -6.2357, -6.4809, -6.6164, -6.2951, -6.1828, -6.5388, -6.5152, -6.0919, -6.7613, -6.2799, -6.5593, -6.5881, -5.8882, -6.3905, -6.1375, -6.066, -5.9621, -5.7648, -5.3107, -6.2325, -6.2183, -6.1519, -6.0577, -6.0875, -6.2999, -6.2639, -5.5232, -6.204, -6.0945, -6.1993, -6.0845, -6.264, -5.7312, -5.9783, -5.7997, -6.1665, -5.684, -6.2599, -5.8862, -5.9608, -5.8305, -6.2575, -6.3324, -6.088, -5.1838, -5.983, -6.3719, -5.2607, -6.178, -6.2206, -6.007, -6.5902, -6.6079, -6.6085, -6.4214, -6.2312, -6.3133, -6.6404, -6.5613, -6.6681, -6.6018, -6.4982, -5.8533, -5.892, -5.6387, -6.1108, -5.2238, -5.8726, -6.1048, -5.8501, -5.5417, -5.7179, -5.9323, -5.6561, -5.9237, -5.9186, -6.1133, -6.025, -5.6936, -5.9962, -6.0274, -6.1055, -5.702, -5.8202, -6.0562, -6.2072, -6.2516, -6.0563, -5.9848, -6.3809, -6.2425, -6.4512, -6.5654, -6.3289, -5.8064, -6.2468, -6.4671, -6.4513, -6.5982, -6.481, -6.6501, -6.4822, -6.6051, -6.5482, -5.6664, -6.6766, -6.431, -6.4322, -6.6057, -6.3515, -6.7337, -6.7068, -6.424, -6.6767, -6.4131, -5.7767, -6.1743, -6.1949, -5.8401, -5.7861, -5.6614, -5.5354, -6.1305, -6.0753, -5.7085, -5.9589, -6.2816, -6.2893, -6.3259, -6.2103, -6.1656, -5.7689, -5.9687, -6.2475, -5.9915, -6.2424, -6.1458, -5.8636, -6.059, -6.2353, -6.2631, -6.0881, -6.1061, -6.4682, -6.4042, -6.4835, -6.4043, -6.1681, -6.1361, -6.4397, -6.5702, -6.5069, -6.3002, -6.6095, -6.4642, -6.3365, -6.2216, -5.956, -6.5086, -6.4557, -6.5457, -6.4266, -6.5522, -6.6409, -6.6745, -6.5183, -6.5044, -6.0651, -6.0352, -6.408, -5.8558, -6.0707, -6.1953, -6.4081, -6.3392, -6.3735, -6.3809, -6.3512, -6.3303, -6.1835, -6.4207, -6.4093, -6.422]}, \"token.table\": {\"Topic\": [1, 1, 1, 2, 3, 1, 1, 1, 1, 1, 2, 1, 1, 1, 7, 1, 1, 2, 4, 1, 1, 3, 3, 1, 1, 1, 4, 2, 2, 1, 3, 1, 6, 1, 1, 3, 1, 1, 1, 1, 3, 1, 1, 1, 3, 1, 3, 1, 3, 1, 1, 1, 1, 1, 1, 3, 1, 1, 2, 1, 4, 4, 1, 1, 3, 5, 1, 4, 8, 1, 1, 1, 3, 4, 1, 6, 1, 2, 1, 1, 2, 2, 3, 6, 1, 2, 1, 3, 1, 1, 1, 3, 5, 1, 8, 1, 1, 1, 1, 2, 4, 1, 1, 1, 2, 3, 1, 8, 3, 1, 1, 1, 1, 1, 4, 1, 1, 8, 1, 4, 1, 1, 1, 1, 1, 1, 8, 1, 1, 4, 1, 4, 1, 1, 1, 2, 8, 1, 1, 2, 7, 2, 3, 1, 1, 1, 1, 3, 5, 1, 1, 1, 1, 1, 3, 1, 9, 1, 1, 2, 1], \"Freq\": [0.8925661513574794, 0.738886948670103, 0.35587479529165245, 0.35587479529165245, 0.35587479529165245, 0.5278915822125378, 0.8996442491766639, 0.5635623071275295, 0.9738591882625917, 0.6002482135254023, 0.6111792893191237, 0.9459388340220088, 0.8918620996513927, 0.8219708590892927, 0.06322852762225328, 0.8302780823127948, 0.8128811288308889, 0.06252931760237607, 0.06252931760237607, 0.6477951847343058, 0.8467493067870779, 1.0023189598645208, 0.6341249856032627, 0.7595377384114294, 0.5359305733047156, 0.5555712343320572, 0.5555712343320572, 0.553784567012153, 0.4710314746411343, 0.7282566918366534, 0.3641283459183267, 0.6515431881815579, 1.0327410004164803, 0.9183808348437534, 0.9317804267025338, 0.5191522954545381, 1.006226950993592, 0.9330163485319077, 0.9225694897660816, 0.6750855176354624, 0.22502850587848747, 0.9527704539518949, 0.7249060632255029, 0.6180290221066926, 0.6344469479821855, 0.8682378472540131, 0.8374324443951846, 0.35647203224547286, 0.35647203224547286, 0.9037324987610742, 0.8428087180563396, 0.7003834563947013, 0.8714432877078754, 0.3286795720930881, 0.7572620765848148, 0.09465775957310185, 0.5613945025397804, 0.6416465288420903, 0.6416465288420903, 0.4169878917450289, 0.4169878917450289, 0.5617984107576657, 0.8095774067443056, 0.622194774436558, 0.1555486936091395, 0.1555486936091395, 0.6513157557091787, 0.38394984120974546, 0.38394984120974546, 0.9109691103673373, 0.9267981532621868, 0.47472817348617935, 0.23736408674308968, 0.23736408674308968, 0.6678067974699724, 0.1669516993674931, 0.44930172491711196, 0.44930172491711196, 0.8876826640898291, 0.5388421164287354, 0.49630753297330854, 0.2739630026253629, 0.2739630026253629, 0.2739630026253629, 0.735476231752684, 0.6360379097602651, 0.48918712735967346, 0.24459356367983673, 0.8451875827819373, 0.5965651015208192, 0.906016436446551, 0.6327771266735553, 0.6327771266735553, 0.47296833788382076, 0.47296833788382076, 0.8938740780734832, 0.4980515304758289, 0.7557925472393752, 0.8006019804782893, 0.08895577560869881, 0.08895577560869881, 0.9220357601301103, 0.9150887818777805, 0.8519494120206624, 0.0946610457800736, 0.4610485090395567, 0.4669198085595426, 0.4669198085595426, 0.8955953573576357, 0.5093974590048644, 0.9067542230668517, 0.9467410652697367, 1.0134546989741813, 0.73976900879238, 0.9813438304270446, 0.7044535515321833, 0.6803275570099626, 0.22677585233665418, 0.5683181972524115, 0.5683181972524115, 0.38145319664846894, 0.8694764241667571, 0.5548226791730172, 0.4298722834619478, 0.48118397506361643, 0.6541495345233056, 0.5424724765880586, 0.4785716963413694, 0.47491894823199604, 0.47491894823199604, 0.8295338987778238, 0.7672816508332837, 0.43172909202718873, 1.0040522105211815, 0.30592299521207356, 0.30592299521207356, 0.30592299521207356, 0.6691594192385363, 0.5159918535869058, 0.1719972845289686, 0.1719972845289686, 0.5413361133779481, 0.500453307863609, 0.8498862641687889, 0.8904797021137026, 0.8888973006981009, 0.996318772951928, 0.2963058982333571, 0.2963058982333571, 0.7240722016189569, 0.950262647837524, 0.8088645705955448, 1.010334877153115, 0.6792875639957783, 0.45178030118590384, 0.5758273918381992, 0.1919424639460664, 0.8356735954050664, 0.8067722488477277, 0.1344620414746213, 0.8785734553637466], \"Term\": [\"act\", \"action\", \"address\", \"address\", \"address\", \"advice\", \"agriculture\", \"animal\", \"areas\", \"assist\", \"atmosphere\", \"carbon\", \"cars\", \"change\", \"change\", \"clear\", \"climate\", \"climate\", \"climate\", \"commercial\", \"commission\", \"consulting\", \"costs\", \"country\", \"data\", \"decisions\", \"decisions\", \"discussion\", \"document\", \"does\", \"does\", \"don\", \"dump\", \"economic\", \"economy\", \"effective\", \"electric\", \"emissions\", \"energy\", \"environment\", \"environment\", \"environmental\", \"environmentally\", \"far\", \"farmers\", \"farming\", \"fine\", \"focus\", \"focus\", \"future\", \"gas\", \"generations\", \"global\", \"good\", \"government\", \"government\", \"govt\", \"happy\", \"happy\", \"huge\", \"huge\", \"human\", \"impact\", \"important\", \"important\", \"important\", \"improve\", \"information\", \"information\", \"integrated\", \"international\", \"issue\", \"issue\", \"issue\", \"just\", \"just\", \"key\", \"key\", \"kids\", \"leader\", \"leadership\", \"let\", \"let\", \"let\", \"like\", \"little\", \"long\", \"long\", \"make\", \"management\", \"methane\", \"ministry\", \"ministry\", \"moment\", \"moment\", \"money\", \"national\", \"natural\", \"need\", \"need\", \"need\", \"needs\", \"net\", \"new\", \"new\", \"opportunity\", \"organisations\", \"organisations\", \"participate\", \"party\", \"people\", \"polluting\", \"power\", \"prepared\", \"pressure\", \"problem\", \"public\", \"public\", \"read\", \"read\", \"really\", \"reduce\", \"reductions\", \"reporting\", \"require\", \"requires\", \"risk\", \"sea\", \"seriously\", \"seriously\", \"set\", \"sharing\", \"significant\", \"strong\", \"submission\", \"submission\", \"submission\", \"summary\", \"support\", \"support\", \"support\", \"sustainable\", \"taking\", \"target\", \"targets\", \"tax\", \"term\", \"thank\", \"thank\", \"time\", \"transition\", \"transport\", \"waste\", \"way\", \"website\", \"work\", \"work\", \"world\", \"zealand\", \"zealand\", \"zero\"]}, \"R\": 30, \"lambda.step\": 0.01, \"plot.opts\": {\"xlab\": \"PC1\", \"ylab\": \"PC2\"}, \"topic.order\": [8, 2, 1, 7, 5, 9, 10, 6, 3, 4]};\n",
       "\n",
       "function LDAvis_load_lib(url, callback){\n",
       "  var s = document.createElement('script');\n",
       "  s.src = url;\n",
       "  s.async = true;\n",
       "  s.onreadystatechange = s.onload = callback;\n",
       "  s.onerror = function(){console.warn(\"failed to load library \" + url);};\n",
       "  document.getElementsByTagName(\"head\")[0].appendChild(s);\n",
       "}\n",
       "\n",
       "if(typeof(LDAvis) !== \"undefined\"){\n",
       "   // already loaded: just create the visualization\n",
       "   !function(LDAvis){\n",
       "       new LDAvis(\"#\" + \"ldavis_el9581397528660018723160499844\", ldavis_el9581397528660018723160499844_data);\n",
       "   }(LDAvis);\n",
       "}else if(typeof define === \"function\" && define.amd){\n",
       "   // require.js is available: use it to load d3/LDAvis\n",
       "   require.config({paths: {d3: \"https://cdnjs.cloudflare.com/ajax/libs/d3/3.5.5/d3.min\"}});\n",
       "   require([\"d3\"], function(d3){\n",
       "      window.d3 = d3;\n",
       "      LDAvis_load_lib(\"https://cdn.rawgit.com/bmabey/pyLDAvis/files/ldavis.v1.0.0.js\", function(){\n",
       "        new LDAvis(\"#\" + \"ldavis_el9581397528660018723160499844\", ldavis_el9581397528660018723160499844_data);\n",
       "      });\n",
       "    });\n",
       "}else{\n",
       "    // require.js not available: dynamically load d3 & LDAvis\n",
       "    LDAvis_load_lib(\"https://cdnjs.cloudflare.com/ajax/libs/d3/3.5.5/d3.min.js\", function(){\n",
       "         LDAvis_load_lib(\"https://cdn.rawgit.com/bmabey/pyLDAvis/files/ldavis.v1.0.0.js\", function(){\n",
       "                 new LDAvis(\"#\" + \"ldavis_el9581397528660018723160499844\", ldavis_el9581397528660018723160499844_data);\n",
       "            })\n",
       "         });\n",
       "}\n",
       "</script>"
      ],
      "text/plain": [
       "PreparedData(topic_coordinates=              x         y  topics  cluster       Freq\n",
       "topic                                                \n",
       "7     -0.209704  0.003505       1        1  44.166012\n",
       "1      0.034930  0.029747       2        1   8.141151\n",
       "0      0.028919  0.067877       3        1   8.050994\n",
       "6      0.020773 -0.016307       4        1   6.561857\n",
       "4      0.021592 -0.008756       5        1   6.286734\n",
       "8      0.032098 -0.022677       6        1   5.772462\n",
       "9      0.024271 -0.018061       7        1   5.765951\n",
       "5      0.015254 -0.014072       8        1   5.461696\n",
       "2      0.013213 -0.007004       9        1   5.343641\n",
       "3      0.018654 -0.014253      10        1   4.449503, topic_info=     Category       Freq         Term      Total  loglift  logprob\n",
       "1200  Default   5.000000         just   5.000000  30.0000  30.0000\n",
       "1255  Default   3.000000          let   3.000000  29.0000  29.0000\n",
       "2171  Default   5.000000      support   5.000000  28.0000  28.0000\n",
       "2229  Default   3.000000        thank   3.000000  27.0000  27.0000\n",
       "281   Default  13.000000       carbon  13.000000  26.0000  26.0000\n",
       "...       ...        ...          ...        ...      ...      ...\n",
       "61    Topic10   0.208676       advice   1.894328   0.9065  -6.3303\n",
       "904   Topic10   0.241679       future   7.745655  -0.3549  -6.1835\n",
       "1237  Topic10   0.190630      leaders   1.010663   1.4444  -6.4207\n",
       "365   Topic10   0.192831   commercial   1.543698   1.0323  -6.4093\n",
       "918   Topic10   0.190386  generations   2.855579   0.4044  -6.4220\n",
       "\n",
       "[550 rows x 6 columns], token_table=      Topic      Freq     Term\n",
       "term                          \n",
       "27        1  0.892566      act\n",
       "29        1  0.738887   action\n",
       "48        1  0.355875  address\n",
       "48        2  0.355875  address\n",
       "48        3  0.355875  address\n",
       "...     ...       ...      ...\n",
       "2440      9  0.191942     work\n",
       "2445      1  0.835674    world\n",
       "2463      1  0.806772  zealand\n",
       "2463      2  0.134462  zealand\n",
       "2467      1  0.878573     zero\n",
       "\n",
       "[161 rows x 3 columns], R=30, lambda_step=0.01, plot_opts={'xlab': 'PC1', 'ylab': 'PC2'}, topic_order=[8, 2, 1, 7, 5, 9, 10, 6, 3, 4])"
      ]
     },
     "execution_count": 83,
     "metadata": {},
     "output_type": "execute_result"
    }
   ],
   "source": [
    "# NOTE: This step takes a long while to return\n",
    "prepared_data = pyLDAvis.sklearn.prepare(lda, vectorized_data, vectorizer)\n",
    "prepared_data"
   ]
  },
  {
   "cell_type": "code",
   "execution_count": null,
   "metadata": {},
   "outputs": [],
   "source": [
    "# WAIT here for previous step to return\n"
   ]
  }
 ],
 "metadata": {
  "kernelspec": {
   "display_name": "Python 3",
   "language": "python",
   "name": "python3"
  },
  "language_info": {
   "codemirror_mode": {
    "name": "ipython",
    "version": 3
   },
   "file_extension": ".py",
   "mimetype": "text/x-python",
   "name": "python",
   "nbconvert_exporter": "python",
   "pygments_lexer": "ipython3",
   "version": "3.7.4"
  }
 },
 "nbformat": 4,
 "nbformat_minor": 2
}
