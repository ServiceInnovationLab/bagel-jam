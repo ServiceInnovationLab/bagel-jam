{
 "cells": [
  {
   "cell_type": "code",
   "execution_count": 2,
   "metadata": {},
   "outputs": [],
   "source": [
    "import json\n",
    "from glob import glob"
   ]
  },
  {
   "cell_type": "code",
   "execution_count": 3,
   "metadata": {},
   "outputs": [],
   "source": [
    "key_phrases_file = 'zero-carbon-bill/key-phrases/key-phrases.json'\n",
    "with open(key_phrases_file) as f:\n",
    "    contents = f.read()\n",
    "\n",
    "key_phrases = json.loads(contents)"
   ]
  },
  {
   "cell_type": "code",
   "execution_count": 8,
   "metadata": {},
   "outputs": [],
   "source": [
    "sentiment_analysis_file = 'zero-carbon-bill/sentiment-analysis/output.json'\n",
    "with open(sentiment_analysis_file) as f:\n",
    "    contents = f.read()\n",
    "\n",
    "sentiment_analysis = json.loads(contents)"
   ]
  },
  {
   "cell_type": "code",
   "execution_count": 9,
   "metadata": {},
   "outputs": [],
   "source": [
    "input_file_pattern = 'zero-carbon-bill/input/*.json'\n",
    "input_folder_name = 'zero-carbon-bill/input/'\n",
    "\n",
    "filenames = glob(input_file_pattern)"
   ]
  },
  {
   "cell_type": "code",
   "execution_count": 10,
   "metadata": {},
   "outputs": [
    {
     "data": {
      "text/plain": [
       "{'File': '00002_Jennifer_Valentine_Redacted.pdf.txt.json',\n",
       " 'KeyPhrases': [{'BeginOffset': 19,\n",
       "   'EndOffset': 27,\n",
       "   'Score': 1.0,\n",
       "   'Text': 'our most'},\n",
       "  {'BeginOffset': 37,\n",
       "   'EndOffset': 50,\n",
       "   'Score': 0.9999997317792233,\n",
       "   'Text': 'gift, we must'}]}"
      ]
     },
     "execution_count": 10,
     "metadata": {},
     "output_type": "execute_result"
    }
   ],
   "source": [
    "key_phrases[1]['KeyPhrases']\n",
    "key_phrases[1]"
   ]
  },
  {
   "cell_type": "code",
   "execution_count": 11,
   "metadata": {},
   "outputs": [],
   "source": [
    "def key_phrases_for_submission(number):\n",
    "    submission_phrases = key_phrases[number]\n",
    "    file_name = folder_name + submission_phrases['File']\n",
    "    with open(file_name) as f:\n",
    "        submission_contents = f.read()\n",
    "    print('Full text:')\n",
    "    print(submission_contents)\n",
    "    phrases = submission_phrases['KeyPhrases']\n",
    "    for phrase in phrases:\n",
    "        print('Key phrase:')\n",
    "        print(phrase['Text'])\n",
    "        print('Score:')\n",
    "        print(phrase['Score'])\n",
    "    return(submission_phrases['KeyPhrases'])"
   ]
  },
  {
   "cell_type": "code",
   "execution_count": 7,
   "metadata": {},
   "outputs": [
    {
     "ename": "NameError",
     "evalue": "name 'folder_name' is not defined",
     "output_type": "error",
     "traceback": [
      "\u001b[0;31m---------------------------------------------------------------------------\u001b[0m",
      "\u001b[0;31mNameError\u001b[0m                                 Traceback (most recent call last)",
      "\u001b[0;32m<ipython-input-7-69991dbd2a42>\u001b[0m in \u001b[0;36m<module>\u001b[0;34m\u001b[0m\n\u001b[0;32m----> 1\u001b[0;31m \u001b[0mkey_phrases_for_submission\u001b[0m\u001b[0;34m(\u001b[0m\u001b[0;36m13\u001b[0m\u001b[0;34m)\u001b[0m\u001b[0;34m\u001b[0m\u001b[0;34m\u001b[0m\u001b[0m\n\u001b[0m",
      "\u001b[0;32m<ipython-input-6-2cb09a58a84b>\u001b[0m in \u001b[0;36mkey_phrases_for_submission\u001b[0;34m(number)\u001b[0m\n\u001b[1;32m      1\u001b[0m \u001b[0;32mdef\u001b[0m \u001b[0mkey_phrases_for_submission\u001b[0m\u001b[0;34m(\u001b[0m\u001b[0mnumber\u001b[0m\u001b[0;34m)\u001b[0m\u001b[0;34m:\u001b[0m\u001b[0;34m\u001b[0m\u001b[0;34m\u001b[0m\u001b[0m\n\u001b[1;32m      2\u001b[0m     \u001b[0msubmission_phrases\u001b[0m \u001b[0;34m=\u001b[0m \u001b[0mkey_phrases\u001b[0m\u001b[0;34m[\u001b[0m\u001b[0mnumber\u001b[0m\u001b[0;34m]\u001b[0m\u001b[0;34m\u001b[0m\u001b[0;34m\u001b[0m\u001b[0m\n\u001b[0;32m----> 3\u001b[0;31m     \u001b[0mfile_name\u001b[0m \u001b[0;34m=\u001b[0m \u001b[0mfolder_name\u001b[0m \u001b[0;34m+\u001b[0m \u001b[0msubmission_phrases\u001b[0m\u001b[0;34m[\u001b[0m\u001b[0;34m'File'\u001b[0m\u001b[0;34m]\u001b[0m\u001b[0;34m\u001b[0m\u001b[0;34m\u001b[0m\u001b[0m\n\u001b[0m\u001b[1;32m      4\u001b[0m     \u001b[0;32mwith\u001b[0m \u001b[0mopen\u001b[0m\u001b[0;34m(\u001b[0m\u001b[0mfile_name\u001b[0m\u001b[0;34m)\u001b[0m \u001b[0;32mas\u001b[0m \u001b[0mf\u001b[0m\u001b[0;34m:\u001b[0m\u001b[0;34m\u001b[0m\u001b[0;34m\u001b[0m\u001b[0m\n\u001b[1;32m      5\u001b[0m         \u001b[0msubmission_contents\u001b[0m \u001b[0;34m=\u001b[0m \u001b[0mf\u001b[0m\u001b[0;34m.\u001b[0m\u001b[0mread\u001b[0m\u001b[0;34m(\u001b[0m\u001b[0;34m)\u001b[0m\u001b[0;34m\u001b[0m\u001b[0;34m\u001b[0m\u001b[0m\n",
      "\u001b[0;31mNameError\u001b[0m: name 'folder_name' is not defined"
     ]
    }
   ],
   "source": [
    "key_phrases_for_submission(13)"
   ]
  },
  {
   "cell_type": "code",
   "execution_count": 31,
   "metadata": {},
   "outputs": [
    {
     "data": {
      "text/plain": [
       "{u'File': u'00089_Jenny_Ritchie_Redacted.pdf.txt.json',\n",
       " u'KeyPhrases': [{u'BeginOffset': 3,\n",
       "   u'EndOffset': 12,\n",
       "   u'Score': 0.9952778801057404,\n",
       "   u'Text': u'is such a'}]}"
      ]
     },
     "execution_count": 31,
     "metadata": {},
     "output_type": "execute_result"
    }
   ],
   "source": []
  },
  {
   "cell_type": "code",
   "execution_count": null,
   "metadata": {},
   "outputs": [],
   "source": []
  }
 ],
 "metadata": {
  "kernelspec": {
   "display_name": "Python 3",
   "language": "python",
   "name": "python3"
  },
  "language_info": {
   "codemirror_mode": {
    "name": "ipython",
    "version": 3
   },
   "file_extension": ".py",
   "mimetype": "text/x-python",
   "name": "python",
   "nbconvert_exporter": "python",
   "pygments_lexer": "ipython3",
   "version": "3.7.4"
  }
 },
 "nbformat": 4,
 "nbformat_minor": 2
}
