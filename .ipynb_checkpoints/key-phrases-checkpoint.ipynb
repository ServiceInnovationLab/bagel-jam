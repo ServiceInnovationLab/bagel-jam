{
 "cells": [
  {
   "cell_type": "code",
   "execution_count": null,
   "metadata": {},
   "outputs": [],
   "source": [
    "import json\n",
    "from glob import glob"
   ]
  },
  {
   "cell_type": "code",
   "execution_count": 5,
   "metadata": {},
   "outputs": [],
   "source": [
    "key_phrases_file = 'zero-carbon-bill/key-phrases/key-phrases.json'\n",
    "with open(key_phrases_file) as f:\n",
    "    contents = f.read()\n",
    "\n",
    "key_phrases = json.loads(contents)"
   ]
  },
  {
   "cell_type": "code",
   "execution_count": null,
   "metadata": {},
   "outputs": [],
   "source": [
    "file_pattern = 'zero-carbon-bill/input/*.json'\n",
    "\n",
    "filenames = glob(file_pattern)"
   ]
  },
  {
   "cell_type": "code",
   "execution_count": 9,
   "metadata": {},
   "outputs": [
    {
     "data": {
      "text/plain": [
       "[{u'BeginOffset': 19, u'EndOffset': 27, u'Score': 1.0, u'Text': u'our most'},\n",
       " {u'BeginOffset': 37,\n",
       "  u'EndOffset': 50,\n",
       "  u'Score': 0.9999997317792233,\n",
       "  u'Text': u'gift, we must'}]"
      ]
     },
     "execution_count": 9,
     "metadata": {},
     "output_type": "execute_result"
    }
   ],
   "source": [
    "key_phrases[1]['KeyPhrases']"
   ]
  },
  {
   "cell_type": "code",
   "execution_count": null,
   "metadata": {},
   "outputs": [],
   "source": [
    "def key_phrases_for_submission(number):\n",
    "    "
   ]
  }
 ],
 "metadata": {
  "kernelspec": {
   "display_name": "Python 3",
   "language": "python",
   "name": "python3"
  },
  "language_info": {
   "codemirror_mode": {
    "name": "ipython",
    "version": 2
   },
   "file_extension": ".py",
   "mimetype": "text/x-python",
   "name": "python",
   "nbconvert_exporter": "python",
   "pygments_lexer": "ipython2",
   "version": "2.7.13"
  }
 },
 "nbformat": 4,
 "nbformat_minor": 2
}
