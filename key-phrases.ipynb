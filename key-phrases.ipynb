{
 "cells": [
  {
   "cell_type": "code",
   "execution_count": 10,
   "metadata": {},
   "outputs": [],
   "source": [
    "import json\n",
    "from glob import glob"
   ]
  },
  {
   "cell_type": "code",
   "execution_count": 11,
   "metadata": {},
   "outputs": [],
   "source": [
    "key_phrases_file = 'zero-carbon-bill/key-phrases/key-phrases.json'\n",
    "with open(key_phrases_file) as f:\n",
    "    contents = f.read()\n",
    "\n",
    "key_phrases = json.loads(contents)"
   ]
  },
  {
   "cell_type": "code",
   "execution_count": 17,
   "metadata": {},
   "outputs": [],
   "source": [
    "file_pattern = 'zero-carbon-bill/input/*.json'\n",
    "folder_name = 'zero-carbon-bill/input/'\n",
    "\n",
    "filenames = glob(file_pattern)"
   ]
  },
  {
   "cell_type": "code",
   "execution_count": 14,
   "metadata": {},
   "outputs": [
    {
     "data": {
      "text/plain": [
       "{u'File': u'00002_Jennifer_Valentine_Redacted.pdf.txt.json',\n",
       " u'KeyPhrases': [{u'BeginOffset': 19,\n",
       "   u'EndOffset': 27,\n",
       "   u'Score': 1.0,\n",
       "   u'Text': u'our most'},\n",
       "  {u'BeginOffset': 37,\n",
       "   u'EndOffset': 50,\n",
       "   u'Score': 0.9999997317792233,\n",
       "   u'Text': u'gift, we must'}]}"
      ]
     },
     "execution_count": 14,
     "metadata": {},
     "output_type": "execute_result"
    }
   ],
   "source": [
    "key_phrases[1]['KeyPhrases']\n",
    "key_phrases[1]"
   ]
  },
  {
   "cell_type": "code",
   "execution_count": 32,
   "metadata": {},
   "outputs": [],
   "source": [
    "def key_phrases_for_submission(number):\n",
    "    submission_phrases = key_phrases[number]\n",
    "    file_name = folder_name + submission_phrases['File']\n",
    "    with open(file_name) as f:\n",
    "        submission_contents = f.read()\n",
    "    print('Full text:')\n",
    "    print(submission_contents)\n",
    "    phrases = submission_phrases['KeyPhrases']\n",
    "    for phrase in phrases:\n",
    "        print('Key phrase:')\n",
    "        print(phrase['Text'])\n",
    "        print('Score:')\n",
    "        print(phrase['Score'])"
   ]
  },
  {
   "cell_type": "code",
   "execution_count": 36,
   "metadata": {},
   "outputs": [
    {
     "name": "stdout",
     "output_type": "stream",
     "text": [
      "Full text:\n",
      "The government should set a 2025 Target Policy and legislation should be introduced within 6 months.\n",
      "\n",
      "Key phrase:\n",
      "Target\n",
      "Score:\n",
      "1.0\n",
      "Key phrase:\n",
      "Policy\n",
      "Score:\n",
      "1.0\n",
      "Key phrase:\n",
      "introduced\n",
      "Score:\n",
      "0.999999761581\n",
      "Key phrase:\n",
      "months\n",
      "Score:\n",
      "0.999999761581\n"
     ]
    }
   ],
   "source": [
    "key_phrases_for_submission(13)"
   ]
  },
  {
   "cell_type": "code",
   "execution_count": 31,
   "metadata": {},
   "outputs": [
    {
     "data": {
      "text/plain": [
       "{u'File': u'00089_Jenny_Ritchie_Redacted.pdf.txt.json',\n",
       " u'KeyPhrases': [{u'BeginOffset': 3,\n",
       "   u'EndOffset': 12,\n",
       "   u'Score': 0.9952778801057404,\n",
       "   u'Text': u'is such a'}]}"
      ]
     },
     "execution_count": 31,
     "metadata": {},
     "output_type": "execute_result"
    }
   ],
   "source": [
    "key_phrases[11]"
   ]
  },
  {
   "cell_type": "code",
   "execution_count": null,
   "metadata": {},
   "outputs": [],
   "source": []
  }
 ],
 "metadata": {
  "kernelspec": {
   "display_name": "Python 3",
   "language": "python",
   "name": "python3"
  },
  "language_info": {
   "codemirror_mode": {
    "name": "ipython",
    "version": 2
   },
   "file_extension": ".py",
   "mimetype": "text/x-python",
   "name": "python",
   "nbconvert_exporter": "python",
   "pygments_lexer": "ipython2",
   "version": "2.7.13"
  }
 },
 "nbformat": 4,
 "nbformat_minor": 2
}
