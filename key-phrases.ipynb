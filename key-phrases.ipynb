{
 "cells": [
  {
   "cell_type": "code",
   "execution_count": 172,
   "metadata": {},
   "outputs": [],
   "source": [
    "import json\n",
    "from glob import glob\n",
    "import csv"
   ]
  },
  {
   "cell_type": "code",
   "execution_count": 156,
   "metadata": {},
   "outputs": [],
   "source": [
    "def sort_by_line_number(elem):\n",
    "    return elem['line_number']\n",
    "\n",
    "def sort_by_weight(elem):\n",
    "    return elem['weight']"
   ]
  },
  {
   "cell_type": "code",
   "execution_count": 87,
   "metadata": {},
   "outputs": [],
   "source": [
    "input_file_pattern = 'zero-carbon-bill/input/*.json'\n",
    "input_folder_name = 'zero-carbon-bill/input/'\n",
    "\n",
    "filenames = glob(input_file_pattern)"
   ]
  },
  {
   "cell_type": "code",
   "execution_count": 198,
   "metadata": {},
   "outputs": [],
   "source": [
    "# Import key phrases\n",
    "\n",
    "key_phrases_file = 'zero-carbon-bill/key-phrases/key-phrases.json'\n",
    "with open(key_phrases_file) as f:\n",
    "    contents = f.read()\n",
    "\n",
    "raw_key_phrases = json.loads(contents)\n",
    "key_phrases = {}\n",
    "\n",
    "for item in raw_key_phrases:\n",
    "    filename = item['File']\n",
    "    if key_phrases.get(filename, None) is None:\n",
    "        key_phrases[filename] = []\n",
    "    phrases = item['KeyPhrases']\n",
    "    for phrase in phrases:\n",
    "        phrase.pop('BeginOffset')\n",
    "        phrase.pop('EndOffset')\n",
    "    key_phrases[filename] = phrases"
   ]
  },
  {
   "cell_type": "code",
   "execution_count": 199,
   "metadata": {},
   "outputs": [],
   "source": [
    "# Import sentiment analysis\n",
    "\n",
    "sentiment_analysis_file = 'zero-carbon-bill/sentiment-analysis/output.json'\n",
    "with open(sentiment_analysis_file) as f:\n",
    "    contents = f.read()\n",
    "\n",
    "raw_sentiment_analysis = json.loads(contents)\n",
    "sentiment_analysis = {}\n",
    "\n",
    "for item in raw_sentiment_analysis:\n",
    "    filename = item['File']\n",
    "    if sentiment_analysis.get(filename, None) is None:\n",
    "        sentiment_analysis[filename] = []\n",
    "    sentiment_analysis[filename].append(item)"
   ]
  },
  {
   "cell_type": "code",
   "execution_count": 200,
   "metadata": {},
   "outputs": [],
   "source": [
    "# Import topic modelling: topics\n",
    "\n",
    "topic_terms = {}\n",
    "\n",
    "with open('zero-carbon-bill/topic-modelling/topic-terms.csv', newline='') as topic_terms_file:\n",
    "    reader = csv.reader(topic_terms_file, delimiter=',')\n",
    "    for row in reader:\n",
    "        if row[0] == 'topic':\n",
    "            next\n",
    "        else:\n",
    "            topic_number = row[0]\n",
    "            item = {'term': row[1], 'weight': row[2]}\n",
    "            if topic_terms.get(topic_number, None) is None:\n",
    "                topic_terms[topic_number] = []\n",
    "            topic_terms[topic_number].append(item)\n",
    "\n",
    "for key, value in topic_terms.items():\n",
    "    topic_terms[key] = sorted(value, key=sort_by_weight, reverse=True)"
   ]
  },
  {
   "cell_type": "code",
   "execution_count": 201,
   "metadata": {},
   "outputs": [],
   "source": [
    "# Import topic modelling: documents\n",
    "\n",
    "docs_with_topics = {}\n",
    "\n",
    "with open('zero-carbon-bill/topic-modelling/doc-topics.csv', newline='') as doc_topics:\n",
    "    reader = csv.reader(doc_topics, delimiter=',')\n",
    "    for row in reader:\n",
    "        if row[0] == 'docname':\n",
    "            next\n",
    "        else:\n",
    "            filename = row[0]\n",
    "            item = {'topic': row[1], 'confidence': row[2]}\n",
    "            \n",
    "            if docs_with_topics.get(filename, None) is None:\n",
    "                docs_with_topics[filename] = []\n",
    "            docs_with_topics[filename].append(item)"
   ]
  },
  {
   "cell_type": "code",
   "execution_count": 202,
   "metadata": {},
   "outputs": [],
   "source": [
    "def key_phrases_for_submission(filename):\n",
    "    if input_folder_name in filename:\n",
    "        input_file_name = filename\n",
    "        filename = filename.replace(input_folder_name, '')\n",
    "    else:\n",
    "        input_file_name = input_folder_name + filename\n",
    "\n",
    "    p = key_phrases.get(filename, None)\n",
    "    return(p)"
   ]
  },
  {
   "cell_type": "code",
   "execution_count": 203,
   "metadata": {},
   "outputs": [],
   "source": [
    "def topics_for_submission(filename):\n",
    "    if input_folder_name in filename:\n",
    "        input_file_name = filename\n",
    "        filename = filename.replace(input_folder_name, '')\n",
    "    else:\n",
    "        input_file_name = input_folder_name + filename\n",
    "\n",
    "    return(docs_with_topics.get(filename, None))"
   ]
  },
  {
   "cell_type": "code",
   "execution_count": 204,
   "metadata": {},
   "outputs": [],
   "source": [
    "def sentiment_analysis_for_submission(filename):    \n",
    "    if input_folder_name in filename:\n",
    "        input_file_name = filename\n",
    "        filename = filename.replace(input_folder_name, '')\n",
    "    else:\n",
    "        input_file_name = input_folder_name + filename\n",
    "\n",
    "    sentiment = sentiment_analysis[filename]\n",
    "    \n",
    "    with open(input_file_name) as f:\n",
    "        submission_contents = f.readlines()\n",
    "\n",
    "    labelled_line_numbers = []\n",
    "    \n",
    "    for l in sentiment:\n",
    "        line_number = l['Line']\n",
    "        \n",
    "        sentiment_details = {}\n",
    "        \n",
    "        predicted_sentiment = l['Sentiment']\n",
    "        sentiment_details['sentiment'] = predicted_sentiment.lower()\n",
    "        sentiment_details['confidence'] = l['SentimentScore'][predicted_sentiment.title()]\n",
    "                \n",
    "        line_details = {}\n",
    "        \n",
    "        line_details['line_number'] = line_number\n",
    "        line_details['original_text'] = submission_contents[line_number]\n",
    "        line_details['sentiment'] = sentiment_details\n",
    "        \n",
    "        labelled_line_numbers.append(line_details)\n",
    "\n",
    "\n",
    "    return(sorted(labelled_line_numbers, key=sort_by_line_number))"
   ]
  },
  {
   "cell_type": "code",
   "execution_count": 205,
   "metadata": {},
   "outputs": [
    {
     "name": "stdout",
     "output_type": "stream",
     "text": [
      "zero-carbon-bill/input/00183_Shaun_Francis.pdf.txt.json\n",
      "Massive Global Warming hasn't happened, nor has massive Climate Change. Also there has been no change in sea levels.\n",
      "\n",
      "{'sentiment': 'neutral', 'confidence': 0.5912350416183472}\n",
      "***\n"
     ]
    }
   ],
   "source": [
    "a = sentiment_analysis_for_submission(filenames[6])\n",
    "\n",
    "print(filenames[6])\n",
    "for line in a:\n",
    "    print(line['original_text'])\n",
    "    print(line['sentiment'])\n",
    "    print('***')"
   ]
  },
  {
   "cell_type": "code",
   "execution_count": 207,
   "metadata": {},
   "outputs": [],
   "source": [
    "def everything_for_file(filename):\n",
    "    sentiment = sentiment_analysis_for_submission(filename)\n",
    "    key_phrases = key_phrases_for_submission(filename)\n",
    "    topics = topics_for_submission(filename)\n",
    "    return({'sentiment': sentiment, 'key_phrases': key_phrases, 'topics': topics})"
   ]
  },
  {
   "cell_type": "code",
   "execution_count": 218,
   "metadata": {},
   "outputs": [
    {
     "data": {
      "text/plain": [
       "{'sentiment': [{'line_number': 0,\n",
       "   'original_text': \"Massive Global Warming hasn't happened, nor has massive Climate Change. Also there has been no change in sea levels.\\n\",\n",
       "   'sentiment': {'sentiment': 'neutral', 'confidence': 0.5912350416183472}}],\n",
       " 'key_phrases': [{'Score': 0.9999314593576598, 'Text': 'Massive'},\n",
       "  {'Score': 0.9999999701976798, 'Text': \"n't happened, nor\"},\n",
       "  {'Score': 1.0, 'Text': '.'},\n",
       "  {'Score': 1.0, 'Text': 'Also there has been no'},\n",
       "  {'Score': 0.9980705931186065, 'Text': 'sea levels'}],\n",
       " 'topics': [{'topic': '016', 'confidence': '1.0'}]}"
      ]
     },
     "execution_count": 218,
     "metadata": {},
     "output_type": "execute_result"
    }
   ],
   "source": [
    "everything_for_file(filenames[6])"
   ]
  },
  {
   "cell_type": "code",
   "execution_count": 219,
   "metadata": {},
   "outputs": [
    {
     "data": {
      "text/plain": [
       "[{'term': 'level', 'weight': '0.21933216'},\n",
       " {'term': 'high', 'weight': '0.20494124'},\n",
       " {'term': 'urgency', 'weight': '0.2029609'},\n",
       " {'term': 'prioritise', 'weight': '0.20183815'},\n",
       " {'term': 'bill', 'weight': '0.034151934'},\n",
       " {'term': 'business', 'weight': '0.027950712'},\n",
       " {'term': 'emission', 'weight': '0.01914937'},\n",
       " {'term': 'agriculture', 'weight': '0.016041243'},\n",
       " {'term': 'massive', 'weight': '0.013707493'},\n",
       " {'term': 'work', 'weight': '0.009518109'}]"
      ]
     },
     "execution_count": 219,
     "metadata": {},
     "output_type": "execute_result"
    }
   ],
   "source": [
    "topic_terms['016']"
   ]
  },
  {
   "cell_type": "code",
   "execution_count": null,
   "metadata": {},
   "outputs": [],
   "source": []
  }
 ],
 "metadata": {
  "kernelspec": {
   "display_name": "Python 3",
   "language": "python",
   "name": "python3"
  },
  "language_info": {
   "codemirror_mode": {
    "name": "ipython",
    "version": 3
   },
   "file_extension": ".py",
   "mimetype": "text/x-python",
   "name": "python",
   "nbconvert_exporter": "python",
   "pygments_lexer": "ipython3",
   "version": "3.7.4"
  }
 },
 "nbformat": 4,
 "nbformat_minor": 2
}
